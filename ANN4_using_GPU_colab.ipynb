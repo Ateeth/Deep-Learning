{
  "nbformat": 4,
  "nbformat_minor": 0,
  "metadata": {
    "colab": {
      "provenance": [],
      "mount_file_id": "1ctrMBXrmBJXyhmw-8FlPhluBvop_ODvM",
      "authorship_tag": "ABX9TyNgI9DJEuZ8LSBq3CjCzdQd",
      "include_colab_link": true
    },
    "kernelspec": {
      "name": "python3",
      "display_name": "Python 3"
    },
    "language_info": {
      "name": "python"
    },
    "accelerator": "GPU",
    "gpuClass": "standard"
  },
  "cells": [
    {
      "cell_type": "markdown",
      "metadata": {
        "id": "view-in-github",
        "colab_type": "text"
      },
      "source": [
        "<a href=\"https://colab.research.google.com/github/Ateeth/Deep-Learning/blob/main/ANN4_using_GPU_colab.ipynb\" target=\"_parent\"><img src=\"https://colab.research.google.com/assets/colab-badge.svg\" alt=\"Open In Colab\"/></a>"
      ]
    },
    {
      "cell_type": "markdown",
      "source": [
        "# Test if GPU is *working*"
      ],
      "metadata": {
        "id": "y2DRN4Nhnglb"
      }
    },
    {
      "cell_type": "code",
      "execution_count": 1,
      "metadata": {
        "colab": {
          "base_uri": "https://localhost:8080/",
          "height": 35
        },
        "id": "Z1ruWs16nMtQ",
        "outputId": "7d82411b-4172-436e-bd23-1423f0534b60"
      },
      "outputs": [
        {
          "output_type": "execute_result",
          "data": {
            "text/plain": [
              "'/device:GPU:0'"
            ],
            "application/vnd.google.colaboratory.intrinsic+json": {
              "type": "string"
            }
          },
          "metadata": {},
          "execution_count": 1
        }
      ],
      "source": [
        "import tensorflow as tf\n",
        "tf.test.gpu_device_name()"
      ]
    },
    {
      "cell_type": "markdown",
      "source": [
        "# Which GPU is being used"
      ],
      "metadata": {
        "id": "6st126VZn1UX"
      }
    },
    {
      "cell_type": "code",
      "source": [
        "from tensorflow.python.client import device_lib\n",
        "device_lib.list_local_devices()"
      ],
      "metadata": {
        "colab": {
          "base_uri": "https://localhost:8080/"
        },
        "id": "Jmx4m9Gjn0w8",
        "outputId": "89cfe9ad-d6fe-41ee-a3cc-dbb30e960f79"
      },
      "execution_count": 2,
      "outputs": [
        {
          "output_type": "execute_result",
          "data": {
            "text/plain": [
              "[name: \"/device:CPU:0\"\n",
              " device_type: \"CPU\"\n",
              " memory_limit: 268435456\n",
              " locality {\n",
              " }\n",
              " incarnation: 3964288670837468254\n",
              " xla_global_id: -1, name: \"/device:GPU:0\"\n",
              " device_type: \"GPU\"\n",
              " memory_limit: 14415560704\n",
              " locality {\n",
              "   bus_id: 1\n",
              "   links {\n",
              "   }\n",
              " }\n",
              " incarnation: 18004073872215944207\n",
              " physical_device_desc: \"device: 0, name: Tesla T4, pci bus id: 0000:00:04.0, compute capability: 7.5\"\n",
              " xla_global_id: 416903419]"
            ]
          },
          "metadata": {},
          "execution_count": 2
        }
      ]
    },
    {
      "cell_type": "markdown",
      "source": [
        "# RAM information"
      ],
      "metadata": {
        "id": "Wf2hG2GhoNe6"
      }
    },
    {
      "cell_type": "code",
      "source": [
        "!cat /proc/meminfo"
      ],
      "metadata": {
        "colab": {
          "base_uri": "https://localhost:8080/"
        },
        "id": "EeeI1rOEoPcP",
        "outputId": "eb4149a0-347f-4d6f-f4f8-bca7effc77d9"
      },
      "execution_count": 3,
      "outputs": [
        {
          "output_type": "stream",
          "name": "stdout",
          "text": [
            "MemTotal:       13297200 kB\n",
            "MemFree:         8015008 kB\n",
            "MemAvailable:   11838248 kB\n",
            "Buffers:          352176 kB\n",
            "Cached:          3407600 kB\n",
            "SwapCached:            0 kB\n",
            "Active:           833796 kB\n",
            "Inactive:        4089472 kB\n",
            "Active(anon):        936 kB\n",
            "Inactive(anon):   914380 kB\n",
            "Active(file):     832860 kB\n",
            "Inactive(file):  3175092 kB\n",
            "Unevictable:           0 kB\n",
            "Mlocked:               0 kB\n",
            "SwapTotal:             0 kB\n",
            "SwapFree:              0 kB\n",
            "Dirty:               880 kB\n",
            "Writeback:             0 kB\n",
            "AnonPages:       1163600 kB\n",
            "Mapped:           708228 kB\n",
            "Shmem:             11468 kB\n",
            "KReclaimable:     113480 kB\n",
            "Slab:             155484 kB\n",
            "SReclaimable:     113480 kB\n",
            "SUnreclaim:        42004 kB\n",
            "KernelStack:        5696 kB\n",
            "PageTables:        11864 kB\n",
            "NFS_Unstable:          0 kB\n",
            "Bounce:                0 kB\n",
            "WritebackTmp:          0 kB\n",
            "CommitLimit:     6648600 kB\n",
            "Committed_AS:    4108256 kB\n",
            "VmallocTotal:   34359738367 kB\n",
            "VmallocUsed:       54300 kB\n",
            "VmallocChunk:          0 kB\n",
            "Percpu:             1336 kB\n",
            "HardwareCorrupted:     0 kB\n",
            "AnonHugePages:         0 kB\n",
            "ShmemHugePages:        0 kB\n",
            "ShmemPmdMapped:        0 kB\n",
            "FileHugePages:         0 kB\n",
            "FilePmdMapped:         0 kB\n",
            "CmaTotal:              0 kB\n",
            "CmaFree:               0 kB\n",
            "HugePages_Total:       0\n",
            "HugePages_Free:        0\n",
            "HugePages_Rsvd:        0\n",
            "HugePages_Surp:        0\n",
            "Hugepagesize:       2048 kB\n",
            "Hugetlb:               0 kB\n",
            "DirectMap4k:      262976 kB\n",
            "DirectMap2M:     8122368 kB\n",
            "DirectMap1G:     7340032 kB\n"
          ]
        }
      ]
    },
    {
      "cell_type": "markdown",
      "source": [
        "# CPU information"
      ],
      "metadata": {
        "id": "dq7AseI4oZYG"
      }
    },
    {
      "cell_type": "code",
      "source": [
        "!cat /proc/cpuinfo"
      ],
      "metadata": {
        "colab": {
          "base_uri": "https://localhost:8080/"
        },
        "id": "VzZ4LMYrobtT",
        "outputId": "0135a76c-5350-45a3-da9c-ca7cf3fab564"
      },
      "execution_count": 4,
      "outputs": [
        {
          "output_type": "stream",
          "name": "stdout",
          "text": [
            "processor\t: 0\n",
            "vendor_id\t: GenuineIntel\n",
            "cpu family\t: 6\n",
            "model\t\t: 79\n",
            "model name\t: Intel(R) Xeon(R) CPU @ 2.20GHz\n",
            "stepping\t: 0\n",
            "microcode\t: 0x1\n",
            "cpu MHz\t\t: 2199.998\n",
            "cache size\t: 56320 KB\n",
            "physical id\t: 0\n",
            "siblings\t: 2\n",
            "core id\t\t: 0\n",
            "cpu cores\t: 1\n",
            "apicid\t\t: 0\n",
            "initial apicid\t: 0\n",
            "fpu\t\t: yes\n",
            "fpu_exception\t: yes\n",
            "cpuid level\t: 13\n",
            "wp\t\t: yes\n",
            "flags\t\t: fpu vme de pse tsc msr pae mce cx8 apic sep mtrr pge mca cmov pat pse36 clflush mmx fxsr sse sse2 ss ht syscall nx pdpe1gb rdtscp lm constant_tsc rep_good nopl xtopology nonstop_tsc cpuid tsc_known_freq pni pclmulqdq ssse3 fma cx16 pcid sse4_1 sse4_2 x2apic movbe popcnt aes xsave avx f16c rdrand hypervisor lahf_lm abm 3dnowprefetch invpcid_single ssbd ibrs ibpb stibp fsgsbase tsc_adjust bmi1 hle avx2 smep bmi2 erms invpcid rtm rdseed adx smap xsaveopt arat md_clear arch_capabilities\n",
            "bugs\t\t: cpu_meltdown spectre_v1 spectre_v2 spec_store_bypass l1tf mds swapgs taa mmio_stale_data retbleed\n",
            "bogomips\t: 4399.99\n",
            "clflush size\t: 64\n",
            "cache_alignment\t: 64\n",
            "address sizes\t: 46 bits physical, 48 bits virtual\n",
            "power management:\n",
            "\n",
            "processor\t: 1\n",
            "vendor_id\t: GenuineIntel\n",
            "cpu family\t: 6\n",
            "model\t\t: 79\n",
            "model name\t: Intel(R) Xeon(R) CPU @ 2.20GHz\n",
            "stepping\t: 0\n",
            "microcode\t: 0x1\n",
            "cpu MHz\t\t: 2199.998\n",
            "cache size\t: 56320 KB\n",
            "physical id\t: 0\n",
            "siblings\t: 2\n",
            "core id\t\t: 0\n",
            "cpu cores\t: 1\n",
            "apicid\t\t: 1\n",
            "initial apicid\t: 1\n",
            "fpu\t\t: yes\n",
            "fpu_exception\t: yes\n",
            "cpuid level\t: 13\n",
            "wp\t\t: yes\n",
            "flags\t\t: fpu vme de pse tsc msr pae mce cx8 apic sep mtrr pge mca cmov pat pse36 clflush mmx fxsr sse sse2 ss ht syscall nx pdpe1gb rdtscp lm constant_tsc rep_good nopl xtopology nonstop_tsc cpuid tsc_known_freq pni pclmulqdq ssse3 fma cx16 pcid sse4_1 sse4_2 x2apic movbe popcnt aes xsave avx f16c rdrand hypervisor lahf_lm abm 3dnowprefetch invpcid_single ssbd ibrs ibpb stibp fsgsbase tsc_adjust bmi1 hle avx2 smep bmi2 erms invpcid rtm rdseed adx smap xsaveopt arat md_clear arch_capabilities\n",
            "bugs\t\t: cpu_meltdown spectre_v1 spectre_v2 spec_store_bypass l1tf mds swapgs taa mmio_stale_data retbleed\n",
            "bogomips\t: 4399.99\n",
            "clflush size\t: 64\n",
            "cache_alignment\t: 64\n",
            "address sizes\t: 46 bits physical, 48 bits virtual\n",
            "power management:\n",
            "\n"
          ]
        }
      ]
    },
    {
      "cell_type": "markdown",
      "source": [
        "# MOUNT DRIVE"
      ],
      "metadata": {
        "id": "ow8kv4q7o4vN"
      }
    },
    {
      "cell_type": "code",
      "source": [
        "from google.colab import drive\n",
        "drive.mount('/content/drive' , force_remount=True)"
      ],
      "metadata": {
        "colab": {
          "base_uri": "https://localhost:8080/"
        },
        "id": "UUeRzVz_ofhm",
        "outputId": "21297a08-e131-473b-f8f9-087135e45df2"
      },
      "execution_count": 7,
      "outputs": [
        {
          "output_type": "stream",
          "name": "stdout",
          "text": [
            "Mounted at /content/drive\n"
          ]
        }
      ]
    },
    {
      "cell_type": "code",
      "source": [
        "! pip install -q keras"
      ],
      "metadata": {
        "id": "vOxermNupF_7"
      },
      "execution_count": 8,
      "outputs": []
    },
    {
      "cell_type": "markdown",
      "source": [
        "# Data preprocessing"
      ],
      "metadata": {
        "id": "gP6kl-MIpkLY"
      }
    },
    {
      "cell_type": "code",
      "source": [
        "import pandas as pd\n",
        "import numpy as np \n",
        "import matplotlib.pyplot as plt"
      ],
      "metadata": {
        "id": "Y2lhDLh-pTYV"
      },
      "execution_count": 9,
      "outputs": []
    },
    {
      "cell_type": "code",
      "source": [
        "dataset = pd.read_csv('/content/drive/MyDrive/Colab Notebooks/ANN/Churn_Modelling.csv')\n",
        "dataset.head()"
      ],
      "metadata": {
        "colab": {
          "base_uri": "https://localhost:8080/",
          "height": 270
        },
        "id": "pyUL0JUoqIs8",
        "outputId": "116f475f-e86e-4047-a47e-808db25b3bfd"
      },
      "execution_count": 10,
      "outputs": [
        {
          "output_type": "execute_result",
          "data": {
            "text/plain": [
              "   RowNumber  CustomerId   Surname  CreditScore Geography  Gender  Age  \\\n",
              "0          1    15634602  Hargrave          619    France  Female   42   \n",
              "1          2    15647311      Hill          608     Spain  Female   41   \n",
              "2          3    15619304      Onio          502    France  Female   42   \n",
              "3          4    15701354      Boni          699    France  Female   39   \n",
              "4          5    15737888  Mitchell          850     Spain  Female   43   \n",
              "\n",
              "   Tenure    Balance  NumOfProducts  HasCrCard  IsActiveMember  \\\n",
              "0       2       0.00              1          1               1   \n",
              "1       1   83807.86              1          0               1   \n",
              "2       8  159660.80              3          1               0   \n",
              "3       1       0.00              2          0               0   \n",
              "4       2  125510.82              1          1               1   \n",
              "\n",
              "   EstimatedSalary  Exited  \n",
              "0        101348.88       1  \n",
              "1        112542.58       0  \n",
              "2        113931.57       1  \n",
              "3         93826.63       0  \n",
              "4         79084.10       0  "
            ],
            "text/html": [
              "\n",
              "  <div id=\"df-0ed3e526-9d39-401b-acb6-1b35bf647887\">\n",
              "    <div class=\"colab-df-container\">\n",
              "      <div>\n",
              "<style scoped>\n",
              "    .dataframe tbody tr th:only-of-type {\n",
              "        vertical-align: middle;\n",
              "    }\n",
              "\n",
              "    .dataframe tbody tr th {\n",
              "        vertical-align: top;\n",
              "    }\n",
              "\n",
              "    .dataframe thead th {\n",
              "        text-align: right;\n",
              "    }\n",
              "</style>\n",
              "<table border=\"1\" class=\"dataframe\">\n",
              "  <thead>\n",
              "    <tr style=\"text-align: right;\">\n",
              "      <th></th>\n",
              "      <th>RowNumber</th>\n",
              "      <th>CustomerId</th>\n",
              "      <th>Surname</th>\n",
              "      <th>CreditScore</th>\n",
              "      <th>Geography</th>\n",
              "      <th>Gender</th>\n",
              "      <th>Age</th>\n",
              "      <th>Tenure</th>\n",
              "      <th>Balance</th>\n",
              "      <th>NumOfProducts</th>\n",
              "      <th>HasCrCard</th>\n",
              "      <th>IsActiveMember</th>\n",
              "      <th>EstimatedSalary</th>\n",
              "      <th>Exited</th>\n",
              "    </tr>\n",
              "  </thead>\n",
              "  <tbody>\n",
              "    <tr>\n",
              "      <th>0</th>\n",
              "      <td>1</td>\n",
              "      <td>15634602</td>\n",
              "      <td>Hargrave</td>\n",
              "      <td>619</td>\n",
              "      <td>France</td>\n",
              "      <td>Female</td>\n",
              "      <td>42</td>\n",
              "      <td>2</td>\n",
              "      <td>0.00</td>\n",
              "      <td>1</td>\n",
              "      <td>1</td>\n",
              "      <td>1</td>\n",
              "      <td>101348.88</td>\n",
              "      <td>1</td>\n",
              "    </tr>\n",
              "    <tr>\n",
              "      <th>1</th>\n",
              "      <td>2</td>\n",
              "      <td>15647311</td>\n",
              "      <td>Hill</td>\n",
              "      <td>608</td>\n",
              "      <td>Spain</td>\n",
              "      <td>Female</td>\n",
              "      <td>41</td>\n",
              "      <td>1</td>\n",
              "      <td>83807.86</td>\n",
              "      <td>1</td>\n",
              "      <td>0</td>\n",
              "      <td>1</td>\n",
              "      <td>112542.58</td>\n",
              "      <td>0</td>\n",
              "    </tr>\n",
              "    <tr>\n",
              "      <th>2</th>\n",
              "      <td>3</td>\n",
              "      <td>15619304</td>\n",
              "      <td>Onio</td>\n",
              "      <td>502</td>\n",
              "      <td>France</td>\n",
              "      <td>Female</td>\n",
              "      <td>42</td>\n",
              "      <td>8</td>\n",
              "      <td>159660.80</td>\n",
              "      <td>3</td>\n",
              "      <td>1</td>\n",
              "      <td>0</td>\n",
              "      <td>113931.57</td>\n",
              "      <td>1</td>\n",
              "    </tr>\n",
              "    <tr>\n",
              "      <th>3</th>\n",
              "      <td>4</td>\n",
              "      <td>15701354</td>\n",
              "      <td>Boni</td>\n",
              "      <td>699</td>\n",
              "      <td>France</td>\n",
              "      <td>Female</td>\n",
              "      <td>39</td>\n",
              "      <td>1</td>\n",
              "      <td>0.00</td>\n",
              "      <td>2</td>\n",
              "      <td>0</td>\n",
              "      <td>0</td>\n",
              "      <td>93826.63</td>\n",
              "      <td>0</td>\n",
              "    </tr>\n",
              "    <tr>\n",
              "      <th>4</th>\n",
              "      <td>5</td>\n",
              "      <td>15737888</td>\n",
              "      <td>Mitchell</td>\n",
              "      <td>850</td>\n",
              "      <td>Spain</td>\n",
              "      <td>Female</td>\n",
              "      <td>43</td>\n",
              "      <td>2</td>\n",
              "      <td>125510.82</td>\n",
              "      <td>1</td>\n",
              "      <td>1</td>\n",
              "      <td>1</td>\n",
              "      <td>79084.10</td>\n",
              "      <td>0</td>\n",
              "    </tr>\n",
              "  </tbody>\n",
              "</table>\n",
              "</div>\n",
              "      <button class=\"colab-df-convert\" onclick=\"convertToInteractive('df-0ed3e526-9d39-401b-acb6-1b35bf647887')\"\n",
              "              title=\"Convert this dataframe to an interactive table.\"\n",
              "              style=\"display:none;\">\n",
              "        \n",
              "  <svg xmlns=\"http://www.w3.org/2000/svg\" height=\"24px\"viewBox=\"0 0 24 24\"\n",
              "       width=\"24px\">\n",
              "    <path d=\"M0 0h24v24H0V0z\" fill=\"none\"/>\n",
              "    <path d=\"M18.56 5.44l.94 2.06.94-2.06 2.06-.94-2.06-.94-.94-2.06-.94 2.06-2.06.94zm-11 1L8.5 8.5l.94-2.06 2.06-.94-2.06-.94L8.5 2.5l-.94 2.06-2.06.94zm10 10l.94 2.06.94-2.06 2.06-.94-2.06-.94-.94-2.06-.94 2.06-2.06.94z\"/><path d=\"M17.41 7.96l-1.37-1.37c-.4-.4-.92-.59-1.43-.59-.52 0-1.04.2-1.43.59L10.3 9.45l-7.72 7.72c-.78.78-.78 2.05 0 2.83L4 21.41c.39.39.9.59 1.41.59.51 0 1.02-.2 1.41-.59l7.78-7.78 2.81-2.81c.8-.78.8-2.07 0-2.86zM5.41 20L4 18.59l7.72-7.72 1.47 1.35L5.41 20z\"/>\n",
              "  </svg>\n",
              "      </button>\n",
              "      \n",
              "  <style>\n",
              "    .colab-df-container {\n",
              "      display:flex;\n",
              "      flex-wrap:wrap;\n",
              "      gap: 12px;\n",
              "    }\n",
              "\n",
              "    .colab-df-convert {\n",
              "      background-color: #E8F0FE;\n",
              "      border: none;\n",
              "      border-radius: 50%;\n",
              "      cursor: pointer;\n",
              "      display: none;\n",
              "      fill: #1967D2;\n",
              "      height: 32px;\n",
              "      padding: 0 0 0 0;\n",
              "      width: 32px;\n",
              "    }\n",
              "\n",
              "    .colab-df-convert:hover {\n",
              "      background-color: #E2EBFA;\n",
              "      box-shadow: 0px 1px 2px rgba(60, 64, 67, 0.3), 0px 1px 3px 1px rgba(60, 64, 67, 0.15);\n",
              "      fill: #174EA6;\n",
              "    }\n",
              "\n",
              "    [theme=dark] .colab-df-convert {\n",
              "      background-color: #3B4455;\n",
              "      fill: #D2E3FC;\n",
              "    }\n",
              "\n",
              "    [theme=dark] .colab-df-convert:hover {\n",
              "      background-color: #434B5C;\n",
              "      box-shadow: 0px 1px 3px 1px rgba(0, 0, 0, 0.15);\n",
              "      filter: drop-shadow(0px 1px 2px rgba(0, 0, 0, 0.3));\n",
              "      fill: #FFFFFF;\n",
              "    }\n",
              "  </style>\n",
              "\n",
              "      <script>\n",
              "        const buttonEl =\n",
              "          document.querySelector('#df-0ed3e526-9d39-401b-acb6-1b35bf647887 button.colab-df-convert');\n",
              "        buttonEl.style.display =\n",
              "          google.colab.kernel.accessAllowed ? 'block' : 'none';\n",
              "\n",
              "        async function convertToInteractive(key) {\n",
              "          const element = document.querySelector('#df-0ed3e526-9d39-401b-acb6-1b35bf647887');\n",
              "          const dataTable =\n",
              "            await google.colab.kernel.invokeFunction('convertToInteractive',\n",
              "                                                     [key], {});\n",
              "          if (!dataTable) return;\n",
              "\n",
              "          const docLinkHtml = 'Like what you see? Visit the ' +\n",
              "            '<a target=\"_blank\" href=https://colab.research.google.com/notebooks/data_table.ipynb>data table notebook</a>'\n",
              "            + ' to learn more about interactive tables.';\n",
              "          element.innerHTML = '';\n",
              "          dataTable['output_type'] = 'display_data';\n",
              "          await google.colab.output.renderOutput(dataTable, element);\n",
              "          const docLink = document.createElement('div');\n",
              "          docLink.innerHTML = docLinkHtml;\n",
              "          element.appendChild(docLink);\n",
              "        }\n",
              "      </script>\n",
              "    </div>\n",
              "  </div>\n",
              "  "
            ]
          },
          "metadata": {},
          "execution_count": 10
        }
      ]
    },
    {
      "cell_type": "code",
      "source": [
        "X = dataset.iloc[: , 3 : 13]\n",
        "y = dataset.iloc[: , 13]"
      ],
      "metadata": {
        "id": "NAH_gsmEqIKB"
      },
      "execution_count": 11,
      "outputs": []
    },
    {
      "cell_type": "code",
      "source": [
        "geography = pd.get_dummies(X['Geography'] , drop_first = True)\n",
        "gender = pd.get_dummies(X['Gender'] , drop_first = True)"
      ],
      "metadata": {
        "id": "Wyr-R8ajqipg"
      },
      "execution_count": 12,
      "outputs": []
    },
    {
      "cell_type": "code",
      "source": [
        "X = pd.concat([X , geography , gender] , axis = 1)"
      ],
      "metadata": {
        "id": "s94KjToJqkgC"
      },
      "execution_count": 13,
      "outputs": []
    },
    {
      "cell_type": "code",
      "source": [
        "X = X.drop(['Geography' , 'Gender'] , axis = 1)"
      ],
      "metadata": {
        "id": "VhNG04TAqmc0"
      },
      "execution_count": 14,
      "outputs": []
    },
    {
      "cell_type": "code",
      "source": [
        "from sklearn.model_selection import train_test_split\n",
        "X_train , X_test , y_train , y_test = train_test_split(X , y , test_size = 0.2 , random_state = 0)"
      ],
      "metadata": {
        "id": "NS-PsJzaqo7S"
      },
      "execution_count": 15,
      "outputs": []
    },
    {
      "cell_type": "code",
      "source": [
        "from sklearn.preprocessing import StandardScaler\n",
        "sc = StandardScaler()\n",
        "\n",
        "X_train = sc.fit_transform(X_train)\n",
        "X_test = sc.transform(X_test)"
      ],
      "metadata": {
        "id": "GcH1HZtAqp4X"
      },
      "execution_count": 16,
      "outputs": []
    },
    {
      "cell_type": "code",
      "source": [
        "from keras.models import Sequential\n",
        "from keras.layers import Dense\n",
        "from keras.layers import LeakyReLU , PReLU , ELU\n",
        "from keras.layers import Dropout"
      ],
      "metadata": {
        "id": "dV2H69GvqsvK"
      },
      "execution_count": 17,
      "outputs": []
    },
    {
      "cell_type": "code",
      "source": [
        "classifier = Sequential()"
      ],
      "metadata": {
        "id": "mRCvPPlkqv82"
      },
      "execution_count": 18,
      "outputs": []
    },
    {
      "cell_type": "code",
      "source": [
        "X.shape"
      ],
      "metadata": {
        "colab": {
          "base_uri": "https://localhost:8080/"
        },
        "id": "MGMORffRqyHU",
        "outputId": "7b40a285-96ef-43b8-f03c-fbcec95831bc"
      },
      "execution_count": 19,
      "outputs": [
        {
          "output_type": "execute_result",
          "data": {
            "text/plain": [
              "(10000, 11)"
            ]
          },
          "metadata": {},
          "execution_count": 19
        }
      ]
    },
    {
      "cell_type": "code",
      "source": [
        "classifier.add(Dense(units =  10 , kernel_initializer = 'he_normal' , activation = 'relu' , input_dim = 11))"
      ],
      "metadata": {
        "id": "L3v6yHZlq0a7"
      },
      "execution_count": 20,
      "outputs": []
    },
    {
      "cell_type": "code",
      "source": [
        "classifier.add(Dropout(0.3))"
      ],
      "metadata": {
        "id": "HkIFHHVSq1ek"
      },
      "execution_count": 21,
      "outputs": []
    },
    {
      "cell_type": "code",
      "source": [
        "classifier.add(Dense(units =  20 , kernel_initializer = 'he_normal' , activation = 'relu' ))"
      ],
      "metadata": {
        "id": "dIYj0mqgq57t"
      },
      "execution_count": 22,
      "outputs": []
    },
    {
      "cell_type": "code",
      "source": [
        "classifier.add(Dropout(0.4))"
      ],
      "metadata": {
        "id": "cXSJVoUgq8HQ"
      },
      "execution_count": 23,
      "outputs": []
    },
    {
      "cell_type": "code",
      "source": [
        "classifier.add(Dense(units =  15 , kernel_initializer = 'he_normal' , activation = 'relu' ))"
      ],
      "metadata": {
        "id": "Oc9MUKg_q_6i"
      },
      "execution_count": 24,
      "outputs": []
    },
    {
      "cell_type": "code",
      "source": [
        "classifier.add(Dropout(0.2))"
      ],
      "metadata": {
        "id": "JxVYmTBarBDR"
      },
      "execution_count": 25,
      "outputs": []
    },
    {
      "cell_type": "code",
      "source": [
        "classifier.add(Dense(units = 1 , kernel_initializer = 'glorot_uniform' , activation = 'sigmoid'))"
      ],
      "metadata": {
        "id": "xl3wVxKvrC8s"
      },
      "execution_count": 26,
      "outputs": []
    },
    {
      "cell_type": "code",
      "source": [
        "classifier.compile(optimizer = 'adam', loss = 'binary_crossentropy', metrics = ['accuracy'])"
      ],
      "metadata": {
        "id": "g6noFYTlrEdp"
      },
      "execution_count": 27,
      "outputs": []
    },
    {
      "cell_type": "code",
      "source": [
        "classifier.summary()"
      ],
      "metadata": {
        "colab": {
          "base_uri": "https://localhost:8080/"
        },
        "id": "FMofNOl1rGL4",
        "outputId": "9499606c-3e02-4dc6-dc1b-dfbcd4b70460"
      },
      "execution_count": 28,
      "outputs": [
        {
          "output_type": "stream",
          "name": "stdout",
          "text": [
            "Model: \"sequential\"\n",
            "_________________________________________________________________\n",
            " Layer (type)                Output Shape              Param #   \n",
            "=================================================================\n",
            " dense (Dense)               (None, 10)                120       \n",
            "                                                                 \n",
            " dropout (Dropout)           (None, 10)                0         \n",
            "                                                                 \n",
            " dense_1 (Dense)             (None, 20)                220       \n",
            "                                                                 \n",
            " dropout_1 (Dropout)         (None, 20)                0         \n",
            "                                                                 \n",
            " dense_2 (Dense)             (None, 15)                315       \n",
            "                                                                 \n",
            " dropout_2 (Dropout)         (None, 15)                0         \n",
            "                                                                 \n",
            " dense_3 (Dense)             (None, 1)                 16        \n",
            "                                                                 \n",
            "=================================================================\n",
            "Total params: 671\n",
            "Trainable params: 671\n",
            "Non-trainable params: 0\n",
            "_________________________________________________________________\n"
          ]
        }
      ]
    },
    {
      "cell_type": "code",
      "source": [
        "model_history=classifier.fit(X_train, y_train,validation_split=0.33, batch_size = 10, epochs = 100)"
      ],
      "metadata": {
        "colab": {
          "base_uri": "https://localhost:8080/"
        },
        "id": "yazeono9rJep",
        "outputId": "156edf6c-67d6-4f50-8f78-ae021072de5a"
      },
      "execution_count": 29,
      "outputs": [
        {
          "output_type": "stream",
          "name": "stdout",
          "text": [
            "Epoch 1/100\n",
            "536/536 [==============================] - 5s 4ms/step - loss: 0.6118 - accuracy: 0.7378 - val_loss: 0.4681 - val_accuracy: 0.7955\n",
            "Epoch 2/100\n",
            "536/536 [==============================] - 2s 4ms/step - loss: 0.5262 - accuracy: 0.7789 - val_loss: 0.4602 - val_accuracy: 0.7955\n",
            "Epoch 3/100\n",
            "536/536 [==============================] - 2s 4ms/step - loss: 0.4976 - accuracy: 0.7931 - val_loss: 0.4527 - val_accuracy: 0.7963\n",
            "Epoch 4/100\n",
            "536/536 [==============================] - 3s 5ms/step - loss: 0.4902 - accuracy: 0.7927 - val_loss: 0.4543 - val_accuracy: 0.7970\n",
            "Epoch 5/100\n",
            "536/536 [==============================] - 2s 4ms/step - loss: 0.4791 - accuracy: 0.7970 - val_loss: 0.4483 - val_accuracy: 0.7963\n",
            "Epoch 6/100\n",
            "536/536 [==============================] - 2s 4ms/step - loss: 0.4651 - accuracy: 0.7972 - val_loss: 0.4415 - val_accuracy: 0.7963\n",
            "Epoch 7/100\n",
            "536/536 [==============================] - 2s 4ms/step - loss: 0.4610 - accuracy: 0.8009 - val_loss: 0.4381 - val_accuracy: 0.7963\n",
            "Epoch 8/100\n",
            "536/536 [==============================] - 2s 4ms/step - loss: 0.4530 - accuracy: 0.8022 - val_loss: 0.4325 - val_accuracy: 0.8005\n",
            "Epoch 9/100\n",
            "536/536 [==============================] - 2s 4ms/step - loss: 0.4462 - accuracy: 0.8020 - val_loss: 0.4288 - val_accuracy: 0.8061\n",
            "Epoch 10/100\n",
            "536/536 [==============================] - 3s 5ms/step - loss: 0.4383 - accuracy: 0.8044 - val_loss: 0.4228 - val_accuracy: 0.8073\n",
            "Epoch 11/100\n",
            "536/536 [==============================] - 3s 5ms/step - loss: 0.4288 - accuracy: 0.8119 - val_loss: 0.4089 - val_accuracy: 0.8148\n",
            "Epoch 12/100\n",
            "536/536 [==============================] - 3s 5ms/step - loss: 0.4273 - accuracy: 0.8115 - val_loss: 0.4064 - val_accuracy: 0.8145\n",
            "Epoch 13/100\n",
            "536/536 [==============================] - 2s 4ms/step - loss: 0.4283 - accuracy: 0.8155 - val_loss: 0.4031 - val_accuracy: 0.8239\n",
            "Epoch 14/100\n",
            "536/536 [==============================] - 4s 8ms/step - loss: 0.4177 - accuracy: 0.8175 - val_loss: 0.3952 - val_accuracy: 0.8296\n",
            "Epoch 15/100\n",
            "536/536 [==============================] - 3s 6ms/step - loss: 0.4216 - accuracy: 0.8197 - val_loss: 0.3972 - val_accuracy: 0.8251\n",
            "Epoch 16/100\n",
            "536/536 [==============================] - 4s 8ms/step - loss: 0.4178 - accuracy: 0.8205 - val_loss: 0.3974 - val_accuracy: 0.8326\n",
            "Epoch 17/100\n",
            "536/536 [==============================] - 4s 8ms/step - loss: 0.4095 - accuracy: 0.8293 - val_loss: 0.3955 - val_accuracy: 0.8349\n",
            "Epoch 18/100\n",
            "536/536 [==============================] - 3s 6ms/step - loss: 0.4028 - accuracy: 0.8311 - val_loss: 0.3879 - val_accuracy: 0.8349\n",
            "Epoch 19/100\n",
            "536/536 [==============================] - 3s 6ms/step - loss: 0.4013 - accuracy: 0.8302 - val_loss: 0.3865 - val_accuracy: 0.8398\n",
            "Epoch 20/100\n",
            "536/536 [==============================] - 2s 4ms/step - loss: 0.3981 - accuracy: 0.8304 - val_loss: 0.3897 - val_accuracy: 0.8319\n",
            "Epoch 21/100\n",
            "536/536 [==============================] - 3s 5ms/step - loss: 0.4031 - accuracy: 0.8337 - val_loss: 0.3879 - val_accuracy: 0.8270\n",
            "Epoch 22/100\n",
            "536/536 [==============================] - 3s 5ms/step - loss: 0.3945 - accuracy: 0.8336 - val_loss: 0.3852 - val_accuracy: 0.8311\n",
            "Epoch 23/100\n",
            "536/536 [==============================] - 2s 4ms/step - loss: 0.3920 - accuracy: 0.8347 - val_loss: 0.3852 - val_accuracy: 0.8364\n",
            "Epoch 24/100\n",
            "536/536 [==============================] - 2s 4ms/step - loss: 0.3914 - accuracy: 0.8391 - val_loss: 0.3871 - val_accuracy: 0.8357\n",
            "Epoch 25/100\n",
            "536/536 [==============================] - 3s 5ms/step - loss: 0.3951 - accuracy: 0.8315 - val_loss: 0.3876 - val_accuracy: 0.8410\n",
            "Epoch 26/100\n",
            "536/536 [==============================] - 2s 4ms/step - loss: 0.3913 - accuracy: 0.8343 - val_loss: 0.3850 - val_accuracy: 0.8429\n",
            "Epoch 27/100\n",
            "536/536 [==============================] - 2s 4ms/step - loss: 0.3873 - accuracy: 0.8364 - val_loss: 0.3855 - val_accuracy: 0.8421\n",
            "Epoch 28/100\n",
            "536/536 [==============================] - 2s 4ms/step - loss: 0.3911 - accuracy: 0.8317 - val_loss: 0.3860 - val_accuracy: 0.8402\n",
            "Epoch 29/100\n",
            "536/536 [==============================] - 2s 4ms/step - loss: 0.3879 - accuracy: 0.8395 - val_loss: 0.3816 - val_accuracy: 0.8413\n",
            "Epoch 30/100\n",
            "536/536 [==============================] - 3s 5ms/step - loss: 0.3786 - accuracy: 0.8393 - val_loss: 0.3790 - val_accuracy: 0.8444\n",
            "Epoch 31/100\n",
            "536/536 [==============================] - 3s 5ms/step - loss: 0.3842 - accuracy: 0.8386 - val_loss: 0.3770 - val_accuracy: 0.8470\n",
            "Epoch 32/100\n",
            "536/536 [==============================] - 2s 4ms/step - loss: 0.3865 - accuracy: 0.8364 - val_loss: 0.3829 - val_accuracy: 0.8334\n",
            "Epoch 33/100\n",
            "536/536 [==============================] - 2s 5ms/step - loss: 0.3869 - accuracy: 0.8332 - val_loss: 0.3813 - val_accuracy: 0.8455\n",
            "Epoch 34/100\n",
            "536/536 [==============================] - 2s 4ms/step - loss: 0.3845 - accuracy: 0.8393 - val_loss: 0.3829 - val_accuracy: 0.8395\n",
            "Epoch 35/100\n",
            "536/536 [==============================] - 2s 4ms/step - loss: 0.3826 - accuracy: 0.8378 - val_loss: 0.3812 - val_accuracy: 0.8395\n",
            "Epoch 36/100\n",
            "536/536 [==============================] - 2s 4ms/step - loss: 0.3766 - accuracy: 0.8421 - val_loss: 0.3782 - val_accuracy: 0.8421\n",
            "Epoch 37/100\n",
            "536/536 [==============================] - 2s 4ms/step - loss: 0.3897 - accuracy: 0.8337 - val_loss: 0.3767 - val_accuracy: 0.8451\n",
            "Epoch 38/100\n",
            "536/536 [==============================] - 2s 4ms/step - loss: 0.3797 - accuracy: 0.8378 - val_loss: 0.3799 - val_accuracy: 0.8334\n",
            "Epoch 39/100\n",
            "536/536 [==============================] - 2s 4ms/step - loss: 0.3799 - accuracy: 0.8375 - val_loss: 0.3754 - val_accuracy: 0.8470\n",
            "Epoch 40/100\n",
            "536/536 [==============================] - 2s 4ms/step - loss: 0.3831 - accuracy: 0.8382 - val_loss: 0.3775 - val_accuracy: 0.8406\n",
            "Epoch 41/100\n",
            "536/536 [==============================] - 2s 4ms/step - loss: 0.3759 - accuracy: 0.8401 - val_loss: 0.3796 - val_accuracy: 0.8451\n",
            "Epoch 42/100\n",
            "536/536 [==============================] - 2s 4ms/step - loss: 0.3821 - accuracy: 0.8378 - val_loss: 0.3793 - val_accuracy: 0.8493\n",
            "Epoch 43/100\n",
            "536/536 [==============================] - 2s 4ms/step - loss: 0.3748 - accuracy: 0.8442 - val_loss: 0.3797 - val_accuracy: 0.8372\n",
            "Epoch 44/100\n",
            "536/536 [==============================] - 2s 4ms/step - loss: 0.3773 - accuracy: 0.8421 - val_loss: 0.3787 - val_accuracy: 0.8406\n",
            "Epoch 45/100\n",
            "536/536 [==============================] - 2s 4ms/step - loss: 0.3750 - accuracy: 0.8466 - val_loss: 0.3782 - val_accuracy: 0.8421\n",
            "Epoch 46/100\n",
            "536/536 [==============================] - 2s 4ms/step - loss: 0.3800 - accuracy: 0.8401 - val_loss: 0.3742 - val_accuracy: 0.8444\n",
            "Epoch 47/100\n",
            "536/536 [==============================] - 2s 4ms/step - loss: 0.3815 - accuracy: 0.8397 - val_loss: 0.3776 - val_accuracy: 0.8432\n",
            "Epoch 48/100\n",
            "536/536 [==============================] - 2s 4ms/step - loss: 0.3743 - accuracy: 0.8421 - val_loss: 0.3778 - val_accuracy: 0.8391\n",
            "Epoch 49/100\n",
            "536/536 [==============================] - 2s 4ms/step - loss: 0.3797 - accuracy: 0.8395 - val_loss: 0.3792 - val_accuracy: 0.8353\n",
            "Epoch 50/100\n",
            "536/536 [==============================] - 2s 4ms/step - loss: 0.3807 - accuracy: 0.8391 - val_loss: 0.3773 - val_accuracy: 0.8444\n",
            "Epoch 51/100\n",
            "536/536 [==============================] - 2s 4ms/step - loss: 0.3737 - accuracy: 0.8416 - val_loss: 0.3803 - val_accuracy: 0.8353\n",
            "Epoch 52/100\n",
            "536/536 [==============================] - 2s 4ms/step - loss: 0.3827 - accuracy: 0.8349 - val_loss: 0.3802 - val_accuracy: 0.8436\n",
            "Epoch 53/100\n",
            "536/536 [==============================] - 2s 4ms/step - loss: 0.3852 - accuracy: 0.8352 - val_loss: 0.3835 - val_accuracy: 0.8338\n",
            "Epoch 54/100\n",
            "536/536 [==============================] - 2s 4ms/step - loss: 0.3752 - accuracy: 0.8395 - val_loss: 0.3763 - val_accuracy: 0.8436\n",
            "Epoch 55/100\n",
            "536/536 [==============================] - 2s 4ms/step - loss: 0.3772 - accuracy: 0.8401 - val_loss: 0.3770 - val_accuracy: 0.8436\n",
            "Epoch 56/100\n",
            "536/536 [==============================] - 2s 4ms/step - loss: 0.3747 - accuracy: 0.8397 - val_loss: 0.3764 - val_accuracy: 0.8436\n",
            "Epoch 57/100\n",
            "536/536 [==============================] - 2s 4ms/step - loss: 0.3773 - accuracy: 0.8408 - val_loss: 0.3796 - val_accuracy: 0.8345\n",
            "Epoch 58/100\n",
            "536/536 [==============================] - 2s 4ms/step - loss: 0.3763 - accuracy: 0.8406 - val_loss: 0.3776 - val_accuracy: 0.8410\n",
            "Epoch 59/100\n",
            "536/536 [==============================] - 2s 4ms/step - loss: 0.3754 - accuracy: 0.8453 - val_loss: 0.3770 - val_accuracy: 0.8440\n",
            "Epoch 60/100\n",
            "536/536 [==============================] - 3s 5ms/step - loss: 0.3799 - accuracy: 0.8399 - val_loss: 0.3763 - val_accuracy: 0.8448\n",
            "Epoch 61/100\n",
            "536/536 [==============================] - 2s 4ms/step - loss: 0.3703 - accuracy: 0.8388 - val_loss: 0.3765 - val_accuracy: 0.8421\n",
            "Epoch 62/100\n",
            "536/536 [==============================] - 2s 4ms/step - loss: 0.3749 - accuracy: 0.8386 - val_loss: 0.3755 - val_accuracy: 0.8436\n",
            "Epoch 63/100\n",
            "536/536 [==============================] - 2s 4ms/step - loss: 0.3740 - accuracy: 0.8365 - val_loss: 0.3755 - val_accuracy: 0.8497\n",
            "Epoch 64/100\n",
            "536/536 [==============================] - 3s 5ms/step - loss: 0.3721 - accuracy: 0.8414 - val_loss: 0.3761 - val_accuracy: 0.8459\n",
            "Epoch 65/100\n",
            "536/536 [==============================] - 2s 4ms/step - loss: 0.3693 - accuracy: 0.8418 - val_loss: 0.3753 - val_accuracy: 0.8440\n",
            "Epoch 66/100\n",
            "536/536 [==============================] - 2s 4ms/step - loss: 0.3705 - accuracy: 0.8431 - val_loss: 0.3727 - val_accuracy: 0.8493\n",
            "Epoch 67/100\n",
            "536/536 [==============================] - 2s 4ms/step - loss: 0.3766 - accuracy: 0.8412 - val_loss: 0.3776 - val_accuracy: 0.8395\n",
            "Epoch 68/100\n",
            "536/536 [==============================] - 2s 4ms/step - loss: 0.3749 - accuracy: 0.8395 - val_loss: 0.3782 - val_accuracy: 0.8451\n",
            "Epoch 69/100\n",
            "536/536 [==============================] - 3s 5ms/step - loss: 0.3694 - accuracy: 0.8429 - val_loss: 0.3779 - val_accuracy: 0.8470\n",
            "Epoch 70/100\n",
            "536/536 [==============================] - 2s 4ms/step - loss: 0.3755 - accuracy: 0.8440 - val_loss: 0.3753 - val_accuracy: 0.8440\n",
            "Epoch 71/100\n",
            "536/536 [==============================] - 2s 4ms/step - loss: 0.3744 - accuracy: 0.8462 - val_loss: 0.3742 - val_accuracy: 0.8463\n",
            "Epoch 72/100\n",
            "536/536 [==============================] - 2s 4ms/step - loss: 0.3749 - accuracy: 0.8401 - val_loss: 0.3723 - val_accuracy: 0.8474\n",
            "Epoch 73/100\n",
            "536/536 [==============================] - 2s 4ms/step - loss: 0.3669 - accuracy: 0.8419 - val_loss: 0.3717 - val_accuracy: 0.8455\n",
            "Epoch 74/100\n",
            "536/536 [==============================] - 2s 4ms/step - loss: 0.3676 - accuracy: 0.8492 - val_loss: 0.3763 - val_accuracy: 0.8421\n",
            "Epoch 75/100\n",
            "536/536 [==============================] - 2s 4ms/step - loss: 0.3736 - accuracy: 0.8433 - val_loss: 0.3766 - val_accuracy: 0.8402\n",
            "Epoch 76/100\n",
            "536/536 [==============================] - 2s 4ms/step - loss: 0.3711 - accuracy: 0.8461 - val_loss: 0.3746 - val_accuracy: 0.8455\n",
            "Epoch 77/100\n",
            "536/536 [==============================] - 2s 4ms/step - loss: 0.3703 - accuracy: 0.8378 - val_loss: 0.3749 - val_accuracy: 0.8463\n",
            "Epoch 78/100\n",
            "536/536 [==============================] - 2s 4ms/step - loss: 0.3726 - accuracy: 0.8388 - val_loss: 0.3774 - val_accuracy: 0.8410\n",
            "Epoch 79/100\n",
            "536/536 [==============================] - 2s 4ms/step - loss: 0.3704 - accuracy: 0.8442 - val_loss: 0.3756 - val_accuracy: 0.8474\n",
            "Epoch 80/100\n",
            "536/536 [==============================] - 2s 4ms/step - loss: 0.3720 - accuracy: 0.8405 - val_loss: 0.3774 - val_accuracy: 0.8455\n",
            "Epoch 81/100\n",
            "536/536 [==============================] - 2s 4ms/step - loss: 0.3671 - accuracy: 0.8425 - val_loss: 0.3751 - val_accuracy: 0.8436\n",
            "Epoch 82/100\n",
            "536/536 [==============================] - 2s 4ms/step - loss: 0.3711 - accuracy: 0.8416 - val_loss: 0.3765 - val_accuracy: 0.8440\n",
            "Epoch 83/100\n",
            "536/536 [==============================] - 2s 4ms/step - loss: 0.3715 - accuracy: 0.8440 - val_loss: 0.3811 - val_accuracy: 0.8345\n",
            "Epoch 84/100\n",
            "536/536 [==============================] - 2s 4ms/step - loss: 0.3714 - accuracy: 0.8423 - val_loss: 0.3758 - val_accuracy: 0.8466\n",
            "Epoch 85/100\n",
            "536/536 [==============================] - 2s 4ms/step - loss: 0.3729 - accuracy: 0.8412 - val_loss: 0.3790 - val_accuracy: 0.8436\n",
            "Epoch 86/100\n",
            "536/536 [==============================] - 2s 4ms/step - loss: 0.3694 - accuracy: 0.8416 - val_loss: 0.3764 - val_accuracy: 0.8440\n",
            "Epoch 87/100\n",
            "536/536 [==============================] - 2s 4ms/step - loss: 0.3760 - accuracy: 0.8386 - val_loss: 0.3768 - val_accuracy: 0.8410\n",
            "Epoch 88/100\n",
            "536/536 [==============================] - 2s 4ms/step - loss: 0.3722 - accuracy: 0.8412 - val_loss: 0.3769 - val_accuracy: 0.8421\n",
            "Epoch 89/100\n",
            "536/536 [==============================] - 2s 4ms/step - loss: 0.3703 - accuracy: 0.8405 - val_loss: 0.3767 - val_accuracy: 0.8432\n",
            "Epoch 90/100\n",
            "536/536 [==============================] - 2s 4ms/step - loss: 0.3672 - accuracy: 0.8438 - val_loss: 0.3790 - val_accuracy: 0.8395\n",
            "Epoch 91/100\n",
            "536/536 [==============================] - 2s 4ms/step - loss: 0.3724 - accuracy: 0.8419 - val_loss: 0.3778 - val_accuracy: 0.8398\n",
            "Epoch 92/100\n",
            "536/536 [==============================] - 2s 4ms/step - loss: 0.3688 - accuracy: 0.8405 - val_loss: 0.3764 - val_accuracy: 0.8440\n",
            "Epoch 93/100\n",
            "536/536 [==============================] - 2s 4ms/step - loss: 0.3720 - accuracy: 0.8416 - val_loss: 0.3764 - val_accuracy: 0.8421\n",
            "Epoch 94/100\n",
            "536/536 [==============================] - 2s 4ms/step - loss: 0.3736 - accuracy: 0.8390 - val_loss: 0.3766 - val_accuracy: 0.8379\n",
            "Epoch 95/100\n",
            "536/536 [==============================] - 2s 4ms/step - loss: 0.3719 - accuracy: 0.8421 - val_loss: 0.3773 - val_accuracy: 0.8406\n",
            "Epoch 96/100\n",
            "536/536 [==============================] - 2s 4ms/step - loss: 0.3702 - accuracy: 0.8406 - val_loss: 0.3780 - val_accuracy: 0.8387\n",
            "Epoch 97/100\n",
            "536/536 [==============================] - 2s 4ms/step - loss: 0.3714 - accuracy: 0.8429 - val_loss: 0.3785 - val_accuracy: 0.8357\n",
            "Epoch 98/100\n",
            "536/536 [==============================] - 2s 4ms/step - loss: 0.3669 - accuracy: 0.8459 - val_loss: 0.3780 - val_accuracy: 0.8395\n",
            "Epoch 99/100\n",
            "536/536 [==============================] - 2s 4ms/step - loss: 0.3734 - accuracy: 0.8406 - val_loss: 0.3786 - val_accuracy: 0.8398\n",
            "Epoch 100/100\n",
            "536/536 [==============================] - 2s 4ms/step - loss: 0.3665 - accuracy: 0.8433 - val_loss: 0.3748 - val_accuracy: 0.8417\n"
          ]
        }
      ]
    },
    {
      "cell_type": "code",
      "source": [
        "print(model_history.history.keys())"
      ],
      "metadata": {
        "colab": {
          "base_uri": "https://localhost:8080/"
        },
        "id": "O97VkuoFrMPw",
        "outputId": "612751b9-0a52-4487-edda-5ad1251f2969"
      },
      "execution_count": 30,
      "outputs": [
        {
          "output_type": "stream",
          "name": "stdout",
          "text": [
            "dict_keys(['loss', 'accuracy', 'val_loss', 'val_accuracy'])\n"
          ]
        }
      ]
    },
    {
      "cell_type": "code",
      "source": [
        "# summarize history for accuracy\n",
        "plt.plot(model_history.history['accuracy'])\n",
        "plt.plot(model_history.history['val_accuracy'])\n",
        "plt.title('model accuracy')\n",
        "plt.ylabel('accuracy')\n",
        "plt.xlabel('epoch')\n",
        "plt.legend(['train', 'test'], loc='upper left')\n",
        "plt.show()"
      ],
      "metadata": {
        "colab": {
          "base_uri": "https://localhost:8080/",
          "height": 295
        },
        "id": "s_0uF0amrRCR",
        "outputId": "17555a7d-e52e-4cb8-e679-dc3bf5254892"
      },
      "execution_count": 31,
      "outputs": [
        {
          "output_type": "display_data",
          "data": {
            "text/plain": [
              "<Figure size 432x288 with 1 Axes>"
            ],
            "image/png": "[encoded data removed]"
          },
          "metadata": {
            "needs_background": "light"
          }
        }
      ]
    },
    {
      "cell_type": "code",
      "source": [
        "plt.plot(model_history.history['loss'])\n",
        "plt.plot(model_history.history['val_loss'])\n",
        "plt.title('model loss')\n",
        "plt.ylabel('loss')\n",
        "plt.xlabel('epoch')\n",
        "plt.legend(['train', 'test'], loc='upper left')\n",
        "plt.show()"
      ],
      "metadata": {
        "colab": {
          "base_uri": "https://localhost:8080/",
          "height": 295
        },
        "id": "Y62SXAomrT4Y",
        "outputId": "da14c7a2-070a-4ea2-9410-79065ea5bbed"
      },
      "execution_count": 32,
      "outputs": [
        {
          "output_type": "display_data",
          "data": {
            "text/plain": [
              "<Figure size 432x288 with 1 Axes>"
            ],
            "image/png": "[encoded data removed]"
          },
          "metadata": {
            "needs_background": "light"
          }
        }
      ]
    },
    {
      "cell_type": "code",
      "source": [
        "y_pred = classifier.predict(X_test)\n",
        "y_pred = (y_pred > 0.5)"
      ],
      "metadata": {
        "colab": {
          "base_uri": "https://localhost:8080/"
        },
        "id": "Auf9Ya8IrV9p",
        "outputId": "e32e6f5d-f9cc-4ce7-8cf1-aded5a0b960b"
      },
      "execution_count": 33,
      "outputs": [
        {
          "output_type": "stream",
          "name": "stdout",
          "text": [
            "63/63 [==============================] - 0s 1ms/step\n"
          ]
        }
      ]
    },
    {
      "cell_type": "code",
      "source": [
        "from sklearn.metrics import confusion_matrix\n",
        "cm = confusion_matrix(y_test, y_pred)\n",
        "print(cm)"
      ],
      "metadata": {
        "colab": {
          "base_uri": "https://localhost:8080/"
        },
        "id": "l38SM65brYGv",
        "outputId": "c8ab2e1b-8be1-4cf2-e233-46bcc8fcb120"
      },
      "execution_count": 34,
      "outputs": [
        {
          "output_type": "stream",
          "name": "stdout",
          "text": [
            "[[1587    8]\n",
            " [ 288  117]]\n"
          ]
        }
      ]
    },
    {
      "cell_type": "code",
      "source": [
        "from sklearn.metrics import accuracy_score\n",
        "score = accuracy_score(y_pred,y_test)\n",
        "score"
      ],
      "metadata": {
        "colab": {
          "base_uri": "https://localhost:8080/"
        },
        "id": "4-kuGJi6rasV",
        "outputId": "ac68ad36-5949-4177-ca10-0840697597dd"
      },
      "execution_count": 35,
      "outputs": [
        {
          "output_type": "execute_result",
          "data": {
            "text/plain": [
              "0.852"
            ]
          },
          "metadata": {},
          "execution_count": 35
        }
      ]
    }
  ]
}