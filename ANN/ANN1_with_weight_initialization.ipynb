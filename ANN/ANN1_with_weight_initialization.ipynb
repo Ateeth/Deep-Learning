{
 "cells": [
  {
   "cell_type": "code",
   "execution_count": 131,
   "metadata": {},
   "outputs": [],
   "source": [
    "import pandas as pd\n",
    "import numpy as np\n",
    "import matplotlib.pyplot as plt"
   ]
  },
  {
   "attachments": {},
   "cell_type": "markdown",
   "metadata": {},
   "source": [
    "Predict if customer has exited or not"
   ]
  },
  {
   "cell_type": "code",
   "execution_count": 132,
   "metadata": {},
   "outputs": [
    {
     "data": {
      "text/html": [
       "<div>\n",
       "<style scoped>\n",
       "    .dataframe tbody tr th:only-of-type {\n",
       "        vertical-align: middle;\n",
       "    }\n",
       "\n",
       "    .dataframe tbody tr th {\n",
       "        vertical-align: top;\n",
       "    }\n",
       "\n",
       "    .dataframe thead th {\n",
       "        text-align: right;\n",
       "    }\n",
       "</style>\n",
       "<table border=\"1\" class=\"dataframe\">\n",
       "  <thead>\n",
       "    <tr style=\"text-align: right;\">\n",
       "      <th></th>\n",
       "      <th>RowNumber</th>\n",
       "      <th>CustomerId</th>\n",
       "      <th>Surname</th>\n",
       "      <th>CreditScore</th>\n",
       "      <th>Geography</th>\n",
       "      <th>Gender</th>\n",
       "      <th>Age</th>\n",
       "      <th>Tenure</th>\n",
       "      <th>Balance</th>\n",
       "      <th>NumOfProducts</th>\n",
       "      <th>HasCrCard</th>\n",
       "      <th>IsActiveMember</th>\n",
       "      <th>EstimatedSalary</th>\n",
       "      <th>Exited</th>\n",
       "    </tr>\n",
       "  </thead>\n",
       "  <tbody>\n",
       "    <tr>\n",
       "      <th>0</th>\n",
       "      <td>1</td>\n",
       "      <td>15634602</td>\n",
       "      <td>Hargrave</td>\n",
       "      <td>619</td>\n",
       "      <td>France</td>\n",
       "      <td>Female</td>\n",
       "      <td>42</td>\n",
       "      <td>2</td>\n",
       "      <td>0.00</td>\n",
       "      <td>1</td>\n",
       "      <td>1</td>\n",
       "      <td>1</td>\n",
       "      <td>101348.88</td>\n",
       "      <td>1</td>\n",
       "    </tr>\n",
       "    <tr>\n",
       "      <th>1</th>\n",
       "      <td>2</td>\n",
       "      <td>15647311</td>\n",
       "      <td>Hill</td>\n",
       "      <td>608</td>\n",
       "      <td>Spain</td>\n",
       "      <td>Female</td>\n",
       "      <td>41</td>\n",
       "      <td>1</td>\n",
       "      <td>83807.86</td>\n",
       "      <td>1</td>\n",
       "      <td>0</td>\n",
       "      <td>1</td>\n",
       "      <td>112542.58</td>\n",
       "      <td>0</td>\n",
       "    </tr>\n",
       "    <tr>\n",
       "      <th>2</th>\n",
       "      <td>3</td>\n",
       "      <td>15619304</td>\n",
       "      <td>Onio</td>\n",
       "      <td>502</td>\n",
       "      <td>France</td>\n",
       "      <td>Female</td>\n",
       "      <td>42</td>\n",
       "      <td>8</td>\n",
       "      <td>159660.80</td>\n",
       "      <td>3</td>\n",
       "      <td>1</td>\n",
       "      <td>0</td>\n",
       "      <td>113931.57</td>\n",
       "      <td>1</td>\n",
       "    </tr>\n",
       "    <tr>\n",
       "      <th>3</th>\n",
       "      <td>4</td>\n",
       "      <td>15701354</td>\n",
       "      <td>Boni</td>\n",
       "      <td>699</td>\n",
       "      <td>France</td>\n",
       "      <td>Female</td>\n",
       "      <td>39</td>\n",
       "      <td>1</td>\n",
       "      <td>0.00</td>\n",
       "      <td>2</td>\n",
       "      <td>0</td>\n",
       "      <td>0</td>\n",
       "      <td>93826.63</td>\n",
       "      <td>0</td>\n",
       "    </tr>\n",
       "    <tr>\n",
       "      <th>4</th>\n",
       "      <td>5</td>\n",
       "      <td>15737888</td>\n",
       "      <td>Mitchell</td>\n",
       "      <td>850</td>\n",
       "      <td>Spain</td>\n",
       "      <td>Female</td>\n",
       "      <td>43</td>\n",
       "      <td>2</td>\n",
       "      <td>125510.82</td>\n",
       "      <td>1</td>\n",
       "      <td>1</td>\n",
       "      <td>1</td>\n",
       "      <td>79084.10</td>\n",
       "      <td>0</td>\n",
       "    </tr>\n",
       "  </tbody>\n",
       "</table>\n",
       "</div>"
      ],
      "text/plain": [
       "   RowNumber  CustomerId   Surname  CreditScore Geography  Gender  Age  \\\n",
       "0          1    15634602  Hargrave          619    France  Female   42   \n",
       "1          2    15647311      Hill          608     Spain  Female   41   \n",
       "2          3    15619304      Onio          502    France  Female   42   \n",
       "3          4    15701354      Boni          699    France  Female   39   \n",
       "4          5    15737888  Mitchell          850     Spain  Female   43   \n",
       "\n",
       "   Tenure    Balance  NumOfProducts  HasCrCard  IsActiveMember  \\\n",
       "0       2       0.00              1          1               1   \n",
       "1       1   83807.86              1          0               1   \n",
       "2       8  159660.80              3          1               0   \n",
       "3       1       0.00              2          0               0   \n",
       "4       2  125510.82              1          1               1   \n",
       "\n",
       "   EstimatedSalary  Exited  \n",
       "0        101348.88       1  \n",
       "1        112542.58       0  \n",
       "2        113931.57       1  \n",
       "3         93826.63       0  \n",
       "4         79084.10       0  "
      ]
     },
     "execution_count": 132,
     "metadata": {},
     "output_type": "execute_result"
    }
   ],
   "source": [
    "dataset = pd.read_csv(\"..\\datasets\\Churn_Modelling.csv\")\n",
    "\n",
    "dataset.head()"
   ]
  },
  {
   "attachments": {},
   "cell_type": "markdown",
   "metadata": {},
   "source": [
    "First 3 columns i.e row number , customer id , surname are unnecessary"
   ]
  },
  {
   "cell_type": "code",
   "execution_count": 133,
   "metadata": {},
   "outputs": [],
   "source": [
    "X = dataset.iloc[: , 3 : 13]\n",
    "y = dataset.iloc[: , 13]"
   ]
  },
  {
   "attachments": {},
   "cell_type": "markdown",
   "metadata": {},
   "source": [
    "Convert categorical features to dummy variables drop first variable to avoid dummy variable trap"
   ]
  },
  {
   "cell_type": "code",
   "execution_count": 134,
   "metadata": {},
   "outputs": [],
   "source": [
    "geography = pd.get_dummies(X['Geography'] , drop_first = True)\n",
    "gender = pd.get_dummies(X['Gender'] , drop_first = True)"
   ]
  },
  {
   "attachments": {},
   "cell_type": "markdown",
   "metadata": {},
   "source": [
    "Concatenate table and dummy variables"
   ]
  },
  {
   "cell_type": "code",
   "execution_count": 135,
   "metadata": {},
   "outputs": [],
   "source": [
    "X = pd.concat([X , geography , gender] , axis = 1)"
   ]
  },
  {
   "attachments": {},
   "cell_type": "markdown",
   "metadata": {},
   "source": [
    "Now drop the categorical columns which have been converted to dummy variables"
   ]
  },
  {
   "cell_type": "code",
   "execution_count": 136,
   "metadata": {},
   "outputs": [],
   "source": [
    "X = X.drop(['Geography' , 'Gender'] , axis = 1)"
   ]
  },
  {
   "attachments": {},
   "cell_type": "markdown",
   "metadata": {},
   "source": [
    "Split dataset into test and train split"
   ]
  },
  {
   "cell_type": "code",
   "execution_count": 137,
   "metadata": {},
   "outputs": [],
   "source": [
    "from sklearn.model_selection import train_test_split\n",
    "X_train , X_test , y_train , y_test = train_test_split(X , y , test_size = 0.2 , random_state = 0)"
   ]
  },
  {
   "attachments": {},
   "cell_type": "markdown",
   "metadata": {},
   "source": [
    "**Feature Scaling** very important"
   ]
  },
  {
   "cell_type": "code",
   "execution_count": 138,
   "metadata": {},
   "outputs": [],
   "source": [
    "from sklearn.preprocessing import StandardScaler\n",
    "sc = StandardScaler()\n",
    "\n",
    "X_train = sc.fit_transform(X_train)\n",
    "X_test = sc.transform(X_test)"
   ]
  },
  {
   "attachments": {},
   "cell_type": "markdown",
   "metadata": {},
   "source": [
    "## **Deep Learning**"
   ]
  },
  {
   "cell_type": "code",
   "execution_count": 139,
   "metadata": {},
   "outputs": [],
   "source": [
    "from tensorflow import keras\n",
    "from keras.models import Sequential\n",
    "from keras.layers import Dense\n",
    "from keras.layers import LeakyReLU , PReLU , ELU\n",
    "from keras.layers import Dropout"
   ]
  },
  {
   "attachments": {},
   "cell_type": "markdown",
   "metadata": {},
   "source": [
    "### Initialize the ANN"
   ]
  },
  {
   "attachments": {},
   "cell_type": "markdown",
   "metadata": {},
   "source": [
    "Initialize every ANN using **Sequential()**"
   ]
  },
  {
   "cell_type": "code",
   "execution_count": 140,
   "metadata": {},
   "outputs": [],
   "source": [
    "classifier = Sequential()"
   ]
  },
  {
   "attachments": {},
   "cell_type": "markdown",
   "metadata": {},
   "source": [
    "### Add input layer and hidden layers and dropout as well"
   ]
  },
  {
   "attachments": {},
   "cell_type": "markdown",
   "metadata": {},
   "source": [
    "**he_uniform and he_normal** use to intialize weights for **ReLU**"
   ]
  },
  {
   "attachments": {},
   "cell_type": "markdown",
   "metadata": {},
   "source": [
    "units is output dimension , kernel_intializer is weight initializer , input dimension is number of input features"
   ]
  },
  {
   "cell_type": "code",
   "execution_count": 141,
   "metadata": {},
   "outputs": [
    {
     "data": {
      "text/plain": [
       "(10000, 11)"
      ]
     },
     "execution_count": 141,
     "metadata": {},
     "output_type": "execute_result"
    }
   ],
   "source": [
    "X.shape"
   ]
  },
  {
   "attachments": {},
   "cell_type": "markdown",
   "metadata": {},
   "source": [
    "11 input columns thus input_dim = 11 we want 10 neurons in hidden layer 1 thus units = 10 "
   ]
  },
  {
   "attachments": {},
   "cell_type": "markdown",
   "metadata": {},
   "source": [
    "Input and Hidden layer 1"
   ]
  },
  {
   "cell_type": "code",
   "execution_count": 142,
   "metadata": {},
   "outputs": [],
   "source": [
    "classifier.add(Dense(units =  10 , kernel_initializer = 'he_normal' , activation = 'relu' , input_dim = 11))"
   ]
  },
  {
   "cell_type": "code",
   "execution_count": 143,
   "metadata": {},
   "outputs": [],
   "source": [
    "classifier.add(Dropout(0.3))"
   ]
  },
  {
   "attachments": {},
   "cell_type": "markdown",
   "metadata": {},
   "source": [
    "Add hidden layer 2"
   ]
  },
  {
   "cell_type": "code",
   "execution_count": 144,
   "metadata": {},
   "outputs": [],
   "source": [
    "classifier.add(Dense(units =  20 , kernel_initializer = 'he_normal' , activation = 'relu' ))"
   ]
  },
  {
   "cell_type": "code",
   "execution_count": 145,
   "metadata": {},
   "outputs": [],
   "source": [
    "classifier.add(Dropout(0.4))"
   ]
  },
  {
   "attachments": {},
   "cell_type": "markdown",
   "metadata": {},
   "source": [
    "Add hidden layer 3"
   ]
  },
  {
   "cell_type": "code",
   "execution_count": 146,
   "metadata": {},
   "outputs": [],
   "source": [
    "classifier.add(Dense(units =  15 , kernel_initializer = 'he_normal' , activation = 'relu' ))"
   ]
  },
  {
   "cell_type": "code",
   "execution_count": 147,
   "metadata": {},
   "outputs": [],
   "source": [
    "classifier.add(Dropout(0.2))"
   ]
  },
  {
   "attachments": {},
   "cell_type": "markdown",
   "metadata": {},
   "source": [
    "#### Add output layer"
   ]
  },
  {
   "attachments": {},
   "cell_type": "markdown",
   "metadata": {},
   "source": [
    "As binary classifier use **sigmoid**"
   ]
  },
  {
   "cell_type": "code",
   "execution_count": 148,
   "metadata": {},
   "outputs": [],
   "source": [
    "classifier.add(Dense(units = 1 , kernel_initializer = 'glorot_uniform' , activation = 'sigmoid'))"
   ]
  },
  {
   "attachments": {},
   "cell_type": "markdown",
   "metadata": {},
   "source": [
    "### Compile the ANN"
   ]
  },
  {
   "attachments": {},
   "cell_type": "markdown",
   "metadata": {},
   "source": [
    "**adam** is best optimizer and **binary_crossentropy** used as loss function for binary classification"
   ]
  },
  {
   "cell_type": "code",
   "execution_count": 149,
   "metadata": {},
   "outputs": [],
   "source": [
    "classifier.compile(optimizer = 'adam', loss = 'binary_crossentropy', metrics = ['accuracy'])"
   ]
  },
  {
   "attachments": {},
   "cell_type": "markdown",
   "metadata": {},
   "source": [
    "**Summary of Classifier**"
   ]
  },
  {
   "cell_type": "code",
   "execution_count": 150,
   "metadata": {},
   "outputs": [
    {
     "name": "stdout",
     "output_type": "stream",
     "text": [
      "Model: \"sequential_11\"\n",
      "_________________________________________________________________\n",
      " Layer (type)                Output Shape              Param #   \n",
      "=================================================================\n",
      " dense_27 (Dense)            (None, 10)                120       \n",
      "                                                                 \n",
      " dropout (Dropout)           (None, 10)                0         \n",
      "                                                                 \n",
      " dense_28 (Dense)            (None, 20)                220       \n",
      "                                                                 \n",
      " dropout_1 (Dropout)         (None, 20)                0         \n",
      "                                                                 \n",
      " dense_29 (Dense)            (None, 15)                315       \n",
      "                                                                 \n",
      " dropout_2 (Dropout)         (None, 15)                0         \n",
      "                                                                 \n",
      " dense_30 (Dense)            (None, 1)                 16        \n",
      "                                                                 \n",
      "=================================================================\n",
      "Total params: 671\n",
      "Trainable params: 671\n",
      "Non-trainable params: 0\n",
      "_________________________________________________________________\n"
     ]
    }
   ],
   "source": [
    "classifier.summary()"
   ]
  },
  {
   "attachments": {},
   "cell_type": "markdown",
   "metadata": {},
   "source": [
    "### Fit ANN to training set"
   ]
  },
  {
   "cell_type": "code",
   "execution_count": 151,
   "metadata": {},
   "outputs": [
    {
     "name": "stdout",
     "output_type": "stream",
     "text": [
      "Epoch 1/100\n"
     ]
    },
    {
     "name": "stderr",
     "output_type": "stream",
     "text": [
      "c:\\Users\\ateet\\miniconda3\\envs\\minimal_ds\\lib\\site-packages\\keras\\engine\\data_adapter.py:1696: FutureWarning: The behavior of `series[i:j]` with an integer-dtype index is deprecated. In a future version, this will be treated as *label-based* indexing, consistent with e.g. `series[i]` lookups. To retain the old behavior, use `series.iloc[i:j]`. To get the future behavior, use `series.loc[i:j]`.\n",
      "  return t[start:end]\n"
     ]
    },
    {
     "name": "stdout",
     "output_type": "stream",
     "text": [
      "536/536 [==============================] - 3s 3ms/step - loss: 0.6837 - accuracy: 0.6897 - val_loss: 0.5083 - val_accuracy: 0.7959\n",
      "Epoch 2/100\n",
      "536/536 [==============================] - 2s 3ms/step - loss: 0.5434 - accuracy: 0.7792 - val_loss: 0.4860 - val_accuracy: 0.7955\n",
      "Epoch 3/100\n",
      "536/536 [==============================] - 2s 3ms/step - loss: 0.5122 - accuracy: 0.7919 - val_loss: 0.4745 - val_accuracy: 0.7955\n",
      "Epoch 4/100\n",
      "536/536 [==============================] - 1s 3ms/step - loss: 0.4916 - accuracy: 0.7946 - val_loss: 0.4557 - val_accuracy: 0.7955\n",
      "Epoch 5/100\n",
      "536/536 [==============================] - 1s 3ms/step - loss: 0.4850 - accuracy: 0.7970 - val_loss: 0.4450 - val_accuracy: 0.7967\n",
      "Epoch 6/100\n",
      "536/536 [==============================] - 1s 3ms/step - loss: 0.4650 - accuracy: 0.8013 - val_loss: 0.4378 - val_accuracy: 0.7967\n",
      "Epoch 7/100\n",
      "536/536 [==============================] - 1s 2ms/step - loss: 0.4513 - accuracy: 0.8080 - val_loss: 0.4280 - val_accuracy: 0.7970\n",
      "Epoch 8/100\n",
      "536/536 [==============================] - 1s 3ms/step - loss: 0.4434 - accuracy: 0.8052 - val_loss: 0.4205 - val_accuracy: 0.8084\n",
      "Epoch 9/100\n",
      "536/536 [==============================] - 1s 3ms/step - loss: 0.4409 - accuracy: 0.8115 - val_loss: 0.4151 - val_accuracy: 0.8118\n",
      "Epoch 10/100\n",
      "536/536 [==============================] - 1s 3ms/step - loss: 0.4364 - accuracy: 0.8084 - val_loss: 0.4143 - val_accuracy: 0.8092\n",
      "Epoch 11/100\n",
      "536/536 [==============================] - 2s 3ms/step - loss: 0.4322 - accuracy: 0.8113 - val_loss: 0.4056 - val_accuracy: 0.8156\n",
      "Epoch 12/100\n",
      "536/536 [==============================] - 2s 3ms/step - loss: 0.4279 - accuracy: 0.8175 - val_loss: 0.4042 - val_accuracy: 0.8111\n",
      "Epoch 13/100\n",
      "536/536 [==============================] - 2s 3ms/step - loss: 0.4190 - accuracy: 0.8196 - val_loss: 0.4020 - val_accuracy: 0.8148\n",
      "Epoch 14/100\n",
      "536/536 [==============================] - 2s 3ms/step - loss: 0.4151 - accuracy: 0.8240 - val_loss: 0.3921 - val_accuracy: 0.8300\n",
      "Epoch 15/100\n",
      "536/536 [==============================] - 2s 3ms/step - loss: 0.4113 - accuracy: 0.8265 - val_loss: 0.3913 - val_accuracy: 0.8285\n",
      "Epoch 16/100\n",
      "536/536 [==============================] - 2s 3ms/step - loss: 0.4077 - accuracy: 0.8231 - val_loss: 0.3877 - val_accuracy: 0.8247\n",
      "Epoch 17/100\n",
      "536/536 [==============================] - 2s 3ms/step - loss: 0.4060 - accuracy: 0.8261 - val_loss: 0.3898 - val_accuracy: 0.8254\n",
      "Epoch 18/100\n",
      "536/536 [==============================] - 2s 3ms/step - loss: 0.4000 - accuracy: 0.8306 - val_loss: 0.3861 - val_accuracy: 0.8342\n",
      "Epoch 19/100\n",
      "536/536 [==============================] - 3s 5ms/step - loss: 0.3963 - accuracy: 0.8319 - val_loss: 0.3787 - val_accuracy: 0.8383\n",
      "Epoch 20/100\n",
      "536/536 [==============================] - 2s 4ms/step - loss: 0.3956 - accuracy: 0.8319 - val_loss: 0.3781 - val_accuracy: 0.8353\n",
      "Epoch 21/100\n",
      "536/536 [==============================] - 2s 4ms/step - loss: 0.3976 - accuracy: 0.8287 - val_loss: 0.3791 - val_accuracy: 0.8349\n",
      "Epoch 22/100\n",
      "536/536 [==============================] - 2s 5ms/step - loss: 0.3995 - accuracy: 0.8300 - val_loss: 0.3805 - val_accuracy: 0.8364\n",
      "Epoch 23/100\n",
      "536/536 [==============================] - 3s 5ms/step - loss: 0.3938 - accuracy: 0.8298 - val_loss: 0.3746 - val_accuracy: 0.8402\n",
      "Epoch 24/100\n",
      "536/536 [==============================] - 2s 4ms/step - loss: 0.3949 - accuracy: 0.8326 - val_loss: 0.3797 - val_accuracy: 0.8353\n",
      "Epoch 25/100\n",
      "536/536 [==============================] - 2s 4ms/step - loss: 0.3969 - accuracy: 0.8317 - val_loss: 0.3797 - val_accuracy: 0.8376\n",
      "Epoch 26/100\n",
      "536/536 [==============================] - 3s 5ms/step - loss: 0.3908 - accuracy: 0.8322 - val_loss: 0.3768 - val_accuracy: 0.8376\n",
      "Epoch 27/100\n",
      "536/536 [==============================] - 2s 4ms/step - loss: 0.3967 - accuracy: 0.8291 - val_loss: 0.3787 - val_accuracy: 0.8387\n",
      "Epoch 28/100\n",
      "536/536 [==============================] - 2s 3ms/step - loss: 0.3911 - accuracy: 0.8337 - val_loss: 0.3763 - val_accuracy: 0.8383\n",
      "Epoch 29/100\n",
      "536/536 [==============================] - 2s 3ms/step - loss: 0.3931 - accuracy: 0.8336 - val_loss: 0.3797 - val_accuracy: 0.8364\n",
      "Epoch 30/100\n",
      "536/536 [==============================] - 2s 4ms/step - loss: 0.3948 - accuracy: 0.8322 - val_loss: 0.3770 - val_accuracy: 0.8376\n",
      "Epoch 31/100\n",
      "536/536 [==============================] - 2s 3ms/step - loss: 0.3932 - accuracy: 0.8336 - val_loss: 0.3796 - val_accuracy: 0.8364\n",
      "Epoch 32/100\n",
      "536/536 [==============================] - 2s 3ms/step - loss: 0.3893 - accuracy: 0.8373 - val_loss: 0.3726 - val_accuracy: 0.8383\n",
      "Epoch 33/100\n",
      "536/536 [==============================] - 2s 3ms/step - loss: 0.3872 - accuracy: 0.8444 - val_loss: 0.3723 - val_accuracy: 0.8402\n",
      "Epoch 34/100\n",
      "536/536 [==============================] - 2s 3ms/step - loss: 0.3887 - accuracy: 0.8397 - val_loss: 0.3759 - val_accuracy: 0.8379\n",
      "Epoch 35/100\n",
      "536/536 [==============================] - 2s 3ms/step - loss: 0.3879 - accuracy: 0.8395 - val_loss: 0.3745 - val_accuracy: 0.8379\n",
      "Epoch 36/100\n",
      "536/536 [==============================] - 2s 3ms/step - loss: 0.3902 - accuracy: 0.8382 - val_loss: 0.3749 - val_accuracy: 0.8383\n",
      "Epoch 37/100\n",
      "536/536 [==============================] - 2s 3ms/step - loss: 0.3842 - accuracy: 0.8403 - val_loss: 0.3736 - val_accuracy: 0.8387\n",
      "Epoch 38/100\n",
      "536/536 [==============================] - 2s 3ms/step - loss: 0.3868 - accuracy: 0.8401 - val_loss: 0.3777 - val_accuracy: 0.8353\n",
      "Epoch 39/100\n",
      "536/536 [==============================] - 2s 3ms/step - loss: 0.3817 - accuracy: 0.8390 - val_loss: 0.3727 - val_accuracy: 0.8398\n",
      "Epoch 40/100\n",
      "536/536 [==============================] - 2s 3ms/step - loss: 0.3829 - accuracy: 0.8378 - val_loss: 0.3733 - val_accuracy: 0.8429\n",
      "Epoch 41/100\n",
      "536/536 [==============================] - 2s 3ms/step - loss: 0.3864 - accuracy: 0.8384 - val_loss: 0.3720 - val_accuracy: 0.8379\n",
      "Epoch 42/100\n",
      "536/536 [==============================] - 2s 3ms/step - loss: 0.3850 - accuracy: 0.8386 - val_loss: 0.3689 - val_accuracy: 0.8413\n",
      "Epoch 43/100\n",
      "536/536 [==============================] - 2s 3ms/step - loss: 0.3835 - accuracy: 0.8390 - val_loss: 0.3709 - val_accuracy: 0.8417\n",
      "Epoch 44/100\n",
      "536/536 [==============================] - 2s 3ms/step - loss: 0.3823 - accuracy: 0.8419 - val_loss: 0.3695 - val_accuracy: 0.8440\n",
      "Epoch 45/100\n",
      "536/536 [==============================] - 2s 3ms/step - loss: 0.3795 - accuracy: 0.8388 - val_loss: 0.3726 - val_accuracy: 0.8345\n",
      "Epoch 46/100\n",
      "536/536 [==============================] - 2s 3ms/step - loss: 0.3880 - accuracy: 0.8358 - val_loss: 0.3723 - val_accuracy: 0.8402\n",
      "Epoch 47/100\n",
      "536/536 [==============================] - 2s 3ms/step - loss: 0.3840 - accuracy: 0.8390 - val_loss: 0.3745 - val_accuracy: 0.8353\n",
      "Epoch 48/100\n",
      "536/536 [==============================] - 2s 3ms/step - loss: 0.3853 - accuracy: 0.8401 - val_loss: 0.3759 - val_accuracy: 0.8334\n",
      "Epoch 49/100\n",
      "536/536 [==============================] - 2s 3ms/step - loss: 0.3799 - accuracy: 0.8423 - val_loss: 0.3687 - val_accuracy: 0.8429\n",
      "Epoch 50/100\n",
      "536/536 [==============================] - 2s 3ms/step - loss: 0.3848 - accuracy: 0.8414 - val_loss: 0.3728 - val_accuracy: 0.8338\n",
      "Epoch 51/100\n",
      "536/536 [==============================] - 2s 3ms/step - loss: 0.3784 - accuracy: 0.8382 - val_loss: 0.3694 - val_accuracy: 0.8451\n",
      "Epoch 52/100\n",
      "536/536 [==============================] - 2s 3ms/step - loss: 0.3821 - accuracy: 0.8416 - val_loss: 0.3691 - val_accuracy: 0.8455\n",
      "Epoch 53/100\n",
      "536/536 [==============================] - 2s 3ms/step - loss: 0.3792 - accuracy: 0.8436 - val_loss: 0.3684 - val_accuracy: 0.8440\n",
      "Epoch 54/100\n",
      "536/536 [==============================] - 2s 3ms/step - loss: 0.3765 - accuracy: 0.8447 - val_loss: 0.3666 - val_accuracy: 0.8466\n",
      "Epoch 55/100\n",
      "536/536 [==============================] - 2s 3ms/step - loss: 0.3785 - accuracy: 0.8440 - val_loss: 0.3697 - val_accuracy: 0.8425\n",
      "Epoch 56/100\n",
      "536/536 [==============================] - 2s 3ms/step - loss: 0.3772 - accuracy: 0.8433 - val_loss: 0.3704 - val_accuracy: 0.8402\n",
      "Epoch 57/100\n",
      "536/536 [==============================] - 2s 3ms/step - loss: 0.3757 - accuracy: 0.8440 - val_loss: 0.3636 - val_accuracy: 0.8508\n",
      "Epoch 58/100\n",
      "536/536 [==============================] - 2s 3ms/step - loss: 0.3802 - accuracy: 0.8397 - val_loss: 0.3698 - val_accuracy: 0.8417\n",
      "Epoch 59/100\n",
      "536/536 [==============================] - 2s 3ms/step - loss: 0.3807 - accuracy: 0.8412 - val_loss: 0.3693 - val_accuracy: 0.8425\n",
      "Epoch 60/100\n",
      "536/536 [==============================] - 2s 3ms/step - loss: 0.3738 - accuracy: 0.8380 - val_loss: 0.3701 - val_accuracy: 0.8455\n",
      "Epoch 61/100\n",
      "536/536 [==============================] - 2s 3ms/step - loss: 0.3751 - accuracy: 0.8410 - val_loss: 0.3665 - val_accuracy: 0.8440\n",
      "Epoch 62/100\n",
      "536/536 [==============================] - 2s 3ms/step - loss: 0.3735 - accuracy: 0.8434 - val_loss: 0.3696 - val_accuracy: 0.8406\n",
      "Epoch 63/100\n",
      "536/536 [==============================] - 2s 3ms/step - loss: 0.3790 - accuracy: 0.8425 - val_loss: 0.3681 - val_accuracy: 0.8413\n",
      "Epoch 64/100\n",
      "536/536 [==============================] - 2s 3ms/step - loss: 0.3730 - accuracy: 0.8412 - val_loss: 0.3673 - val_accuracy: 0.8440\n",
      "Epoch 65/100\n",
      "536/536 [==============================] - 2s 3ms/step - loss: 0.3709 - accuracy: 0.8487 - val_loss: 0.3638 - val_accuracy: 0.8432\n",
      "Epoch 66/100\n",
      "536/536 [==============================] - 2s 3ms/step - loss: 0.3737 - accuracy: 0.8427 - val_loss: 0.3679 - val_accuracy: 0.8436\n",
      "Epoch 67/100\n",
      "536/536 [==============================] - 2s 3ms/step - loss: 0.3801 - accuracy: 0.8412 - val_loss: 0.3687 - val_accuracy: 0.8402\n",
      "Epoch 68/100\n",
      "536/536 [==============================] - 2s 3ms/step - loss: 0.3782 - accuracy: 0.8375 - val_loss: 0.3663 - val_accuracy: 0.8455\n",
      "Epoch 69/100\n",
      "536/536 [==============================] - 2s 3ms/step - loss: 0.3749 - accuracy: 0.8405 - val_loss: 0.3618 - val_accuracy: 0.8485\n",
      "Epoch 70/100\n",
      "536/536 [==============================] - 2s 3ms/step - loss: 0.3780 - accuracy: 0.8440 - val_loss: 0.3644 - val_accuracy: 0.8470\n",
      "Epoch 71/100\n",
      "536/536 [==============================] - 2s 4ms/step - loss: 0.3810 - accuracy: 0.8427 - val_loss: 0.3650 - val_accuracy: 0.8436\n",
      "Epoch 72/100\n",
      "536/536 [==============================] - 2s 4ms/step - loss: 0.3788 - accuracy: 0.8444 - val_loss: 0.3702 - val_accuracy: 0.8406\n",
      "Epoch 73/100\n",
      "536/536 [==============================] - 2s 4ms/step - loss: 0.3712 - accuracy: 0.8457 - val_loss: 0.3666 - val_accuracy: 0.8466\n",
      "Epoch 74/100\n",
      "536/536 [==============================] - 2s 4ms/step - loss: 0.3730 - accuracy: 0.8457 - val_loss: 0.3653 - val_accuracy: 0.8470\n",
      "Epoch 75/100\n",
      "536/536 [==============================] - 2s 4ms/step - loss: 0.3717 - accuracy: 0.8431 - val_loss: 0.3659 - val_accuracy: 0.8459\n",
      "Epoch 76/100\n",
      "536/536 [==============================] - 2s 3ms/step - loss: 0.3763 - accuracy: 0.8397 - val_loss: 0.3677 - val_accuracy: 0.8444\n",
      "Epoch 77/100\n",
      "536/536 [==============================] - 2s 3ms/step - loss: 0.3730 - accuracy: 0.8492 - val_loss: 0.3653 - val_accuracy: 0.8466\n",
      "Epoch 78/100\n",
      "536/536 [==============================] - 2s 3ms/step - loss: 0.3707 - accuracy: 0.8423 - val_loss: 0.3606 - val_accuracy: 0.8501\n",
      "Epoch 79/100\n",
      "536/536 [==============================] - 2s 3ms/step - loss: 0.3751 - accuracy: 0.8375 - val_loss: 0.3681 - val_accuracy: 0.8364\n",
      "Epoch 80/100\n",
      "536/536 [==============================] - 1s 3ms/step - loss: 0.3650 - accuracy: 0.8477 - val_loss: 0.3622 - val_accuracy: 0.8504\n",
      "Epoch 81/100\n",
      "536/536 [==============================] - 2s 3ms/step - loss: 0.3753 - accuracy: 0.8442 - val_loss: 0.3675 - val_accuracy: 0.8417\n",
      "Epoch 82/100\n",
      "536/536 [==============================] - 1s 3ms/step - loss: 0.3772 - accuracy: 0.8408 - val_loss: 0.3655 - val_accuracy: 0.8485\n",
      "Epoch 83/100\n",
      "536/536 [==============================] - 2s 3ms/step - loss: 0.3766 - accuracy: 0.8461 - val_loss: 0.3613 - val_accuracy: 0.8478\n",
      "Epoch 84/100\n",
      "536/536 [==============================] - 1s 3ms/step - loss: 0.3744 - accuracy: 0.8382 - val_loss: 0.3608 - val_accuracy: 0.8474\n",
      "Epoch 85/100\n",
      "536/536 [==============================] - 1s 3ms/step - loss: 0.3716 - accuracy: 0.8425 - val_loss: 0.3659 - val_accuracy: 0.8455\n",
      "Epoch 86/100\n",
      "536/536 [==============================] - 1s 3ms/step - loss: 0.3728 - accuracy: 0.8431 - val_loss: 0.3634 - val_accuracy: 0.8463\n",
      "Epoch 87/100\n",
      "536/536 [==============================] - 2s 3ms/step - loss: 0.3728 - accuracy: 0.8453 - val_loss: 0.3616 - val_accuracy: 0.8527\n",
      "Epoch 88/100\n",
      "536/536 [==============================] - 2s 3ms/step - loss: 0.3720 - accuracy: 0.8449 - val_loss: 0.3656 - val_accuracy: 0.8459\n",
      "Epoch 89/100\n",
      "536/536 [==============================] - 2s 3ms/step - loss: 0.3681 - accuracy: 0.8440 - val_loss: 0.3629 - val_accuracy: 0.8470\n",
      "Epoch 90/100\n",
      "536/536 [==============================] - 3s 5ms/step - loss: 0.3712 - accuracy: 0.8427 - val_loss: 0.3652 - val_accuracy: 0.8451\n",
      "Epoch 91/100\n",
      "536/536 [==============================] - 2s 3ms/step - loss: 0.3736 - accuracy: 0.8461 - val_loss: 0.3621 - val_accuracy: 0.8432\n",
      "Epoch 92/100\n",
      "536/536 [==============================] - 3s 5ms/step - loss: 0.3726 - accuracy: 0.8431 - val_loss: 0.3624 - val_accuracy: 0.8482\n",
      "Epoch 93/100\n",
      "536/536 [==============================] - 2s 4ms/step - loss: 0.3758 - accuracy: 0.8414 - val_loss: 0.3626 - val_accuracy: 0.8466\n",
      "Epoch 94/100\n",
      "536/536 [==============================] - 2s 3ms/step - loss: 0.3742 - accuracy: 0.8423 - val_loss: 0.3617 - val_accuracy: 0.8478\n",
      "Epoch 95/100\n",
      "536/536 [==============================] - 2s 3ms/step - loss: 0.3738 - accuracy: 0.8414 - val_loss: 0.3632 - val_accuracy: 0.8451\n",
      "Epoch 96/100\n",
      "536/536 [==============================] - 2s 3ms/step - loss: 0.3717 - accuracy: 0.8446 - val_loss: 0.3641 - val_accuracy: 0.8470\n",
      "Epoch 97/100\n",
      "536/536 [==============================] - 3s 5ms/step - loss: 0.3689 - accuracy: 0.8444 - val_loss: 0.3613 - val_accuracy: 0.8478\n",
      "Epoch 98/100\n",
      "536/536 [==============================] - 2s 4ms/step - loss: 0.3695 - accuracy: 0.8436 - val_loss: 0.3635 - val_accuracy: 0.8463\n",
      "Epoch 99/100\n",
      "536/536 [==============================] - 2s 3ms/step - loss: 0.3697 - accuracy: 0.8436 - val_loss: 0.3647 - val_accuracy: 0.8425\n",
      "Epoch 100/100\n",
      "536/536 [==============================] - 3s 5ms/step - loss: 0.3777 - accuracy: 0.8442 - val_loss: 0.3673 - val_accuracy: 0.8379\n"
     ]
    }
   ],
   "source": [
    "model_history=classifier.fit(X_train, y_train,validation_split=0.33, batch_size = 10, epochs = 100)"
   ]
  },
  {
   "attachments": {},
   "cell_type": "markdown",
   "metadata": {},
   "source": [
    "### Identify metrics for the classifier"
   ]
  },
  {
   "cell_type": "code",
   "execution_count": 152,
   "metadata": {},
   "outputs": [
    {
     "name": "stdout",
     "output_type": "stream",
     "text": [
      "dict_keys(['loss', 'accuracy', 'val_loss', 'val_accuracy'])\n"
     ]
    }
   ],
   "source": [
    "print(model_history.history.keys())"
   ]
  },
  {
   "attachments": {},
   "cell_type": "markdown",
   "metadata": {},
   "source": [
    "### Plot summarize history for accuracy"
   ]
  },
  {
   "cell_type": "code",
   "execution_count": 153,
   "metadata": {},
   "outputs": [
    {
     "data": {
      "image/png": "[encoded data removed]",
      "text/plain": [
       "<Figure size 640x480 with 1 Axes>"
      ]
     },
     "metadata": {},
     "output_type": "display_data"
    }
   ],
   "source": [
    "# summarize history for accuracy\n",
    "plt.plot(model_history.history['accuracy'])\n",
    "plt.plot(model_history.history['val_accuracy'])\n",
    "plt.title('model accuracy')\n",
    "plt.ylabel('accuracy')\n",
    "plt.xlabel('epoch')\n",
    "plt.legend(['train', 'test'], loc='upper left')\n",
    "plt.show()"
   ]
  },
  {
   "attachments": {},
   "cell_type": "markdown",
   "metadata": {},
   "source": [
    "### Plot summarize history for loss"
   ]
  },
  {
   "cell_type": "code",
   "execution_count": 154,
   "metadata": {},
   "outputs": [
    {
     "data": {
      "image/png": "[encoded data removed]",
      "text/plain": [
       "<Figure size 640x480 with 1 Axes>"
      ]
     },
     "metadata": {},
     "output_type": "display_data"
    }
   ],
   "source": [
    "plt.plot(model_history.history['loss'])\n",
    "plt.plot(model_history.history['val_loss'])\n",
    "plt.title('model loss')\n",
    "plt.ylabel('loss')\n",
    "plt.xlabel('epoch')\n",
    "plt.legend(['train', 'test'], loc='upper left')\n",
    "plt.show()"
   ]
  },
  {
   "attachments": {},
   "cell_type": "markdown",
   "metadata": {},
   "source": [
    "### Making the predictions and evaluating the model"
   ]
  },
  {
   "cell_type": "code",
   "execution_count": 155,
   "metadata": {},
   "outputs": [
    {
     "name": "stdout",
     "output_type": "stream",
     "text": [
      "63/63 [==============================] - 0s 3ms/step\n"
     ]
    }
   ],
   "source": [
    "y_pred = classifier.predict(X_test)\n",
    "y_pred = (y_pred > 0.5)"
   ]
  },
  {
   "cell_type": "code",
   "execution_count": 156,
   "metadata": {},
   "outputs": [
    {
     "name": "stdout",
     "output_type": "stream",
     "text": [
      "[[1585   10]\n",
      " [ 299  106]]\n"
     ]
    }
   ],
   "source": [
    "from sklearn.metrics import confusion_matrix\n",
    "cm = confusion_matrix(y_test, y_pred)\n",
    "print(cm)"
   ]
  },
  {
   "cell_type": "code",
   "execution_count": 157,
   "metadata": {},
   "outputs": [
    {
     "data": {
      "text/plain": [
       "0.8455"
      ]
     },
     "execution_count": 157,
     "metadata": {},
     "output_type": "execute_result"
    }
   ],
   "source": [
    "from sklearn.metrics import accuracy_score\n",
    "score = accuracy_score(y_pred,y_test)\n",
    "score"
   ]
  }
 ],
 "metadata": {
  "kernelspec": {
   "display_name": "Python 3",
   "language": "python",
   "name": "python3"
  },
  "language_info": {
   "codemirror_mode": {
    "name": "ipython",
    "version": 3
   },
   "file_extension": ".py",
   "mimetype": "text/x-python",
   "name": "python",
   "nbconvert_exporter": "python",
   "pygments_lexer": "ipython3",
   "version": "3.10.8"
  },
  "orig_nbformat": 4,
  "vscode": {
   "interpreter": {
    "hash": "3b095c78d4d0a65c3f456c494693e1a5b5771f8f860a0a9af68316c2e765deba"
   }
  }
 },
 "nbformat": 4,
 "nbformat_minor": 2
}
