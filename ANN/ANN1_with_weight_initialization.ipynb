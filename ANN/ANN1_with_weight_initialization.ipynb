{
 "cells": [
  {
   "cell_type": "code",
   "execution_count": 99,
   "metadata": {},
   "outputs": [],
   "source": [
    "import pandas as pd\n",
    "import numpy as np\n",
    "import matplotlib.pyplot as plt"
   ]
  },
  {
   "attachments": {},
   "cell_type": "markdown",
   "metadata": {},
   "source": [
    "Predict if customer has exited or not"
   ]
  },
  {
   "cell_type": "code",
   "execution_count": 100,
   "metadata": {},
   "outputs": [
    {
     "data": {
      "text/html": [
       "<div>\n",
       "<style scoped>\n",
       "    .dataframe tbody tr th:only-of-type {\n",
       "        vertical-align: middle;\n",
       "    }\n",
       "\n",
       "    .dataframe tbody tr th {\n",
       "        vertical-align: top;\n",
       "    }\n",
       "\n",
       "    .dataframe thead th {\n",
       "        text-align: right;\n",
       "    }\n",
       "</style>\n",
       "<table border=\"1\" class=\"dataframe\">\n",
       "  <thead>\n",
       "    <tr style=\"text-align: right;\">\n",
       "      <th></th>\n",
       "      <th>RowNumber</th>\n",
       "      <th>CustomerId</th>\n",
       "      <th>Surname</th>\n",
       "      <th>CreditScore</th>\n",
       "      <th>Geography</th>\n",
       "      <th>Gender</th>\n",
       "      <th>Age</th>\n",
       "      <th>Tenure</th>\n",
       "      <th>Balance</th>\n",
       "      <th>NumOfProducts</th>\n",
       "      <th>HasCrCard</th>\n",
       "      <th>IsActiveMember</th>\n",
       "      <th>EstimatedSalary</th>\n",
       "      <th>Exited</th>\n",
       "    </tr>\n",
       "  </thead>\n",
       "  <tbody>\n",
       "    <tr>\n",
       "      <th>0</th>\n",
       "      <td>1</td>\n",
       "      <td>15634602</td>\n",
       "      <td>Hargrave</td>\n",
       "      <td>619</td>\n",
       "      <td>France</td>\n",
       "      <td>Female</td>\n",
       "      <td>42</td>\n",
       "      <td>2</td>\n",
       "      <td>0.00</td>\n",
       "      <td>1</td>\n",
       "      <td>1</td>\n",
       "      <td>1</td>\n",
       "      <td>101348.88</td>\n",
       "      <td>1</td>\n",
       "    </tr>\n",
       "    <tr>\n",
       "      <th>1</th>\n",
       "      <td>2</td>\n",
       "      <td>15647311</td>\n",
       "      <td>Hill</td>\n",
       "      <td>608</td>\n",
       "      <td>Spain</td>\n",
       "      <td>Female</td>\n",
       "      <td>41</td>\n",
       "      <td>1</td>\n",
       "      <td>83807.86</td>\n",
       "      <td>1</td>\n",
       "      <td>0</td>\n",
       "      <td>1</td>\n",
       "      <td>112542.58</td>\n",
       "      <td>0</td>\n",
       "    </tr>\n",
       "    <tr>\n",
       "      <th>2</th>\n",
       "      <td>3</td>\n",
       "      <td>15619304</td>\n",
       "      <td>Onio</td>\n",
       "      <td>502</td>\n",
       "      <td>France</td>\n",
       "      <td>Female</td>\n",
       "      <td>42</td>\n",
       "      <td>8</td>\n",
       "      <td>159660.80</td>\n",
       "      <td>3</td>\n",
       "      <td>1</td>\n",
       "      <td>0</td>\n",
       "      <td>113931.57</td>\n",
       "      <td>1</td>\n",
       "    </tr>\n",
       "    <tr>\n",
       "      <th>3</th>\n",
       "      <td>4</td>\n",
       "      <td>15701354</td>\n",
       "      <td>Boni</td>\n",
       "      <td>699</td>\n",
       "      <td>France</td>\n",
       "      <td>Female</td>\n",
       "      <td>39</td>\n",
       "      <td>1</td>\n",
       "      <td>0.00</td>\n",
       "      <td>2</td>\n",
       "      <td>0</td>\n",
       "      <td>0</td>\n",
       "      <td>93826.63</td>\n",
       "      <td>0</td>\n",
       "    </tr>\n",
       "    <tr>\n",
       "      <th>4</th>\n",
       "      <td>5</td>\n",
       "      <td>15737888</td>\n",
       "      <td>Mitchell</td>\n",
       "      <td>850</td>\n",
       "      <td>Spain</td>\n",
       "      <td>Female</td>\n",
       "      <td>43</td>\n",
       "      <td>2</td>\n",
       "      <td>125510.82</td>\n",
       "      <td>1</td>\n",
       "      <td>1</td>\n",
       "      <td>1</td>\n",
       "      <td>79084.10</td>\n",
       "      <td>0</td>\n",
       "    </tr>\n",
       "  </tbody>\n",
       "</table>\n",
       "</div>"
      ],
      "text/plain": [
       "   RowNumber  CustomerId   Surname  CreditScore Geography  Gender  Age  \\\n",
       "0          1    15634602  Hargrave          619    France  Female   42   \n",
       "1          2    15647311      Hill          608     Spain  Female   41   \n",
       "2          3    15619304      Onio          502    France  Female   42   \n",
       "3          4    15701354      Boni          699    France  Female   39   \n",
       "4          5    15737888  Mitchell          850     Spain  Female   43   \n",
       "\n",
       "   Tenure    Balance  NumOfProducts  HasCrCard  IsActiveMember  \\\n",
       "0       2       0.00              1          1               1   \n",
       "1       1   83807.86              1          0               1   \n",
       "2       8  159660.80              3          1               0   \n",
       "3       1       0.00              2          0               0   \n",
       "4       2  125510.82              1          1               1   \n",
       "\n",
       "   EstimatedSalary  Exited  \n",
       "0        101348.88       1  \n",
       "1        112542.58       0  \n",
       "2        113931.57       1  \n",
       "3         93826.63       0  \n",
       "4         79084.10       0  "
      ]
     },
     "execution_count": 100,
     "metadata": {},
     "output_type": "execute_result"
    }
   ],
   "source": [
    "dataset = pd.read_csv(\"..\\datasets\\Churn_Modelling.csv\")\n",
    "\n",
    "dataset.head()"
   ]
  },
  {
   "attachments": {},
   "cell_type": "markdown",
   "metadata": {},
   "source": [
    "First 3 columns i.e row number , customer id , surname are unnecessary"
   ]
  },
  {
   "cell_type": "code",
   "execution_count": 101,
   "metadata": {},
   "outputs": [],
   "source": [
    "X = dataset.iloc[: , 3 : 13]\n",
    "y = dataset.iloc[: , 13]"
   ]
  },
  {
   "attachments": {},
   "cell_type": "markdown",
   "metadata": {},
   "source": [
    "Convert categorical features to dummy variables drop first variable to avoid dummy variable trap"
   ]
  },
  {
   "cell_type": "code",
   "execution_count": 102,
   "metadata": {},
   "outputs": [],
   "source": [
    "geography = pd.get_dummies(X['Geography'] , drop_first = True)\n",
    "gender = pd.get_dummies(X['Gender'] , drop_first = True)"
   ]
  },
  {
   "attachments": {},
   "cell_type": "markdown",
   "metadata": {},
   "source": [
    "Concatenate table and dummy variables"
   ]
  },
  {
   "cell_type": "code",
   "execution_count": 103,
   "metadata": {},
   "outputs": [],
   "source": [
    "X = pd.concat([X , geography , gender] , axis = 1)"
   ]
  },
  {
   "attachments": {},
   "cell_type": "markdown",
   "metadata": {},
   "source": [
    "Now drop the categorical columns which have been converted to dummy variables"
   ]
  },
  {
   "cell_type": "code",
   "execution_count": 104,
   "metadata": {},
   "outputs": [],
   "source": [
    "X = X.drop(['Geography' , 'Gender'] , axis = 1)"
   ]
  },
  {
   "attachments": {},
   "cell_type": "markdown",
   "metadata": {},
   "source": [
    "Split dataset into test and train split"
   ]
  },
  {
   "cell_type": "code",
   "execution_count": 105,
   "metadata": {},
   "outputs": [],
   "source": [
    "from sklearn.model_selection import train_test_split\n",
    "X_train , X_test , y_train , y_test = train_test_split(X , y , test_size = 0.2 , random_state = 0)"
   ]
  },
  {
   "attachments": {},
   "cell_type": "markdown",
   "metadata": {},
   "source": [
    "**Feature Scaling** very important"
   ]
  },
  {
   "cell_type": "code",
   "execution_count": 106,
   "metadata": {},
   "outputs": [],
   "source": [
    "from sklearn.preprocessing import StandardScaler\n",
    "sc = StandardScaler()\n",
    "\n",
    "X_train = sc.fit_transform(X_train)\n",
    "X_test = sc.transform(X_test)"
   ]
  },
  {
   "attachments": {},
   "cell_type": "markdown",
   "metadata": {},
   "source": [
    "## **Deep Learning**"
   ]
  },
  {
   "cell_type": "code",
   "execution_count": 107,
   "metadata": {},
   "outputs": [],
   "source": [
    "from tensorflow import keras\n",
    "from keras.models import Sequential\n",
    "from keras.layers import Dense\n",
    "from keras.layers import LeakyReLU , PReLU , ELU\n",
    "from keras.layers import Dropout"
   ]
  },
  {
   "attachments": {},
   "cell_type": "markdown",
   "metadata": {},
   "source": [
    "### Initialize the ANN"
   ]
  },
  {
   "attachments": {},
   "cell_type": "markdown",
   "metadata": {},
   "source": [
    "Initialize every ANN using **Sequential()**"
   ]
  },
  {
   "cell_type": "code",
   "execution_count": 108,
   "metadata": {},
   "outputs": [],
   "source": [
    "classifier = Sequential()"
   ]
  },
  {
   "attachments": {},
   "cell_type": "markdown",
   "metadata": {},
   "source": [
    "### Add input layer and first hidden layer"
   ]
  },
  {
   "attachments": {},
   "cell_type": "markdown",
   "metadata": {},
   "source": [
    "**he_uniform and he_normal** use to intialize weights for **ReLU**"
   ]
  },
  {
   "attachments": {},
   "cell_type": "markdown",
   "metadata": {},
   "source": [
    "units is output dimension , kernel_intializer is weight initializer , input dimension is number of input features"
   ]
  },
  {
   "cell_type": "code",
   "execution_count": 130,
   "metadata": {},
   "outputs": [
    {
     "data": {
      "text/plain": [
       "(10000, 11)"
      ]
     },
     "execution_count": 130,
     "metadata": {},
     "output_type": "execute_result"
    }
   ],
   "source": [
    "X.shape"
   ]
  },
  {
   "attachments": {},
   "cell_type": "markdown",
   "metadata": {},
   "source": [
    "11 input columns thus input_dim = 11 we want 6 neurons in hidden layer thus units = 6"
   ]
  },
  {
   "cell_type": "code",
   "execution_count": 109,
   "metadata": {},
   "outputs": [],
   "source": [
    "classifier.add(Dense(units =  6 , kernel_initializer = 'he_uniform' , activation = 'relu' , input_dim = 11))"
   ]
  },
  {
   "attachments": {},
   "cell_type": "markdown",
   "metadata": {},
   "source": [
    "Add hidden layer"
   ]
  },
  {
   "cell_type": "code",
   "execution_count": 110,
   "metadata": {},
   "outputs": [],
   "source": [
    "classifier.add(Dense(units =  6 , kernel_initializer = 'he_uniform' , activation = 'relu' ))"
   ]
  },
  {
   "attachments": {},
   "cell_type": "markdown",
   "metadata": {},
   "source": [
    "#### Add output layer"
   ]
  },
  {
   "attachments": {},
   "cell_type": "markdown",
   "metadata": {},
   "source": [
    "As binary classifier use **sigmoid**"
   ]
  },
  {
   "cell_type": "code",
   "execution_count": 111,
   "metadata": {},
   "outputs": [],
   "source": [
    "classifier.add(Dense(units = 1 , kernel_initializer = 'glorot_uniform' , activation = 'sigmoid'))"
   ]
  },
  {
   "attachments": {},
   "cell_type": "markdown",
   "metadata": {},
   "source": [
    "### Compile the ANN"
   ]
  },
  {
   "cell_type": "code",
   "execution_count": 112,
   "metadata": {},
   "outputs": [],
   "source": [
    "classifier.compile(optimizer = 'adam', loss = 'binary_crossentropy', metrics = ['accuracy'])"
   ]
  },
  {
   "attachments": {},
   "cell_type": "markdown",
   "metadata": {},
   "source": [
    "**Summary of Classifier**"
   ]
  },
  {
   "cell_type": "code",
   "execution_count": 113,
   "metadata": {},
   "outputs": [
    {
     "name": "stdout",
     "output_type": "stream",
     "text": [
      "Model: \"sequential_10\"\n",
      "_________________________________________________________________\n",
      " Layer (type)                Output Shape              Param #   \n",
      "=================================================================\n",
      " dense_24 (Dense)            (None, 6)                 72        \n",
      "                                                                 \n",
      " dense_25 (Dense)            (None, 6)                 42        \n",
      "                                                                 \n",
      " dense_26 (Dense)            (None, 1)                 7         \n",
      "                                                                 \n",
      "=================================================================\n",
      "Total params: 121\n",
      "Trainable params: 121\n",
      "Non-trainable params: 0\n",
      "_________________________________________________________________\n"
     ]
    }
   ],
   "source": [
    "classifier.summary()"
   ]
  },
  {
   "attachments": {},
   "cell_type": "markdown",
   "metadata": {},
   "source": [
    "### Fit ANN to training set"
   ]
  },
  {
   "cell_type": "code",
   "execution_count": 114,
   "metadata": {},
   "outputs": [
    {
     "name": "stderr",
     "output_type": "stream",
     "text": [
      "c:\\Users\\ateet\\miniconda3\\envs\\minimal_ds\\lib\\site-packages\\keras\\engine\\data_adapter.py:1696: FutureWarning: The behavior of `series[i:j]` with an integer-dtype index is deprecated. In a future version, this will be treated as *label-based* indexing, consistent with e.g. `series[i]` lookups. To retain the old behavior, use `series.iloc[i:j]`. To get the future behavior, use `series.loc[i:j]`.\n",
      "  return t[start:end]\n"
     ]
    },
    {
     "name": "stdout",
     "output_type": "stream",
     "text": [
      "Epoch 1/100\n",
      "536/536 [==============================] - 5s 3ms/step - loss: 0.5299 - accuracy: 0.7746 - val_loss: 0.4879 - val_accuracy: 0.7940\n",
      "Epoch 2/100\n",
      "536/536 [==============================] - 1s 3ms/step - loss: 0.4696 - accuracy: 0.7977 - val_loss: 0.4600 - val_accuracy: 0.7948\n",
      "Epoch 3/100\n",
      "536/536 [==============================] - 2s 3ms/step - loss: 0.4462 - accuracy: 0.8000 - val_loss: 0.4422 - val_accuracy: 0.8005\n",
      "Epoch 4/100\n",
      "536/536 [==============================] - 2s 4ms/step - loss: 0.4303 - accuracy: 0.8061 - val_loss: 0.4323 - val_accuracy: 0.8084\n",
      "Epoch 5/100\n",
      "536/536 [==============================] - 3s 6ms/step - loss: 0.4206 - accuracy: 0.8164 - val_loss: 0.4274 - val_accuracy: 0.8092\n",
      "Epoch 6/100\n",
      "536/536 [==============================] - 2s 5ms/step - loss: 0.4132 - accuracy: 0.8210 - val_loss: 0.4227 - val_accuracy: 0.8095\n",
      "Epoch 7/100\n",
      "536/536 [==============================] - 2s 3ms/step - loss: 0.4045 - accuracy: 0.8268 - val_loss: 0.4169 - val_accuracy: 0.8160\n",
      "Epoch 8/100\n",
      "536/536 [==============================] - 1s 3ms/step - loss: 0.3947 - accuracy: 0.8347 - val_loss: 0.4079 - val_accuracy: 0.8220\n",
      "Epoch 9/100\n",
      "536/536 [==============================] - 1s 3ms/step - loss: 0.3833 - accuracy: 0.8423 - val_loss: 0.3983 - val_accuracy: 0.8247\n",
      "Epoch 10/100\n",
      "536/536 [==============================] - 2s 3ms/step - loss: 0.3727 - accuracy: 0.8485 - val_loss: 0.3913 - val_accuracy: 0.8311\n",
      "Epoch 11/100\n",
      "536/536 [==============================] - 1s 3ms/step - loss: 0.3654 - accuracy: 0.8513 - val_loss: 0.3866 - val_accuracy: 0.8334\n",
      "Epoch 12/100\n",
      "536/536 [==============================] - 1s 3ms/step - loss: 0.3598 - accuracy: 0.8537 - val_loss: 0.3831 - val_accuracy: 0.8395\n",
      "Epoch 13/100\n",
      "536/536 [==============================] - 1s 3ms/step - loss: 0.3555 - accuracy: 0.8543 - val_loss: 0.3783 - val_accuracy: 0.8429\n",
      "Epoch 14/100\n",
      "536/536 [==============================] - 2s 3ms/step - loss: 0.3521 - accuracy: 0.8571 - val_loss: 0.3761 - val_accuracy: 0.8448\n",
      "Epoch 15/100\n",
      "536/536 [==============================] - 2s 3ms/step - loss: 0.3499 - accuracy: 0.8567 - val_loss: 0.3745 - val_accuracy: 0.8440\n",
      "Epoch 16/100\n",
      "536/536 [==============================] - 2s 3ms/step - loss: 0.3480 - accuracy: 0.8580 - val_loss: 0.3720 - val_accuracy: 0.8459\n",
      "Epoch 17/100\n",
      "536/536 [==============================] - 1s 3ms/step - loss: 0.3462 - accuracy: 0.8587 - val_loss: 0.3724 - val_accuracy: 0.8436\n",
      "Epoch 18/100\n",
      "536/536 [==============================] - 2s 3ms/step - loss: 0.3449 - accuracy: 0.8582 - val_loss: 0.3711 - val_accuracy: 0.8448\n",
      "Epoch 19/100\n",
      "536/536 [==============================] - 2s 3ms/step - loss: 0.3436 - accuracy: 0.8582 - val_loss: 0.3706 - val_accuracy: 0.8466\n",
      "Epoch 20/100\n",
      "536/536 [==============================] - 1s 3ms/step - loss: 0.3426 - accuracy: 0.8599 - val_loss: 0.3688 - val_accuracy: 0.8463\n",
      "Epoch 21/100\n",
      "536/536 [==============================] - 1s 3ms/step - loss: 0.3420 - accuracy: 0.8595 - val_loss: 0.3672 - val_accuracy: 0.8493\n",
      "Epoch 22/100\n",
      "536/536 [==============================] - 1s 3ms/step - loss: 0.3413 - accuracy: 0.8584 - val_loss: 0.3674 - val_accuracy: 0.8512\n",
      "Epoch 23/100\n",
      "536/536 [==============================] - 2s 3ms/step - loss: 0.3402 - accuracy: 0.8586 - val_loss: 0.3675 - val_accuracy: 0.8519\n",
      "Epoch 24/100\n",
      "536/536 [==============================] - 1s 3ms/step - loss: 0.3404 - accuracy: 0.8582 - val_loss: 0.3648 - val_accuracy: 0.8512\n",
      "Epoch 25/100\n",
      "536/536 [==============================] - 1s 3ms/step - loss: 0.3393 - accuracy: 0.8604 - val_loss: 0.3652 - val_accuracy: 0.8501\n",
      "Epoch 26/100\n",
      "536/536 [==============================] - 2s 3ms/step - loss: 0.3391 - accuracy: 0.8606 - val_loss: 0.3641 - val_accuracy: 0.8527\n",
      "Epoch 27/100\n",
      "536/536 [==============================] - 1s 3ms/step - loss: 0.3387 - accuracy: 0.8595 - val_loss: 0.3645 - val_accuracy: 0.8497\n",
      "Epoch 28/100\n",
      "536/536 [==============================] - 2s 3ms/step - loss: 0.3372 - accuracy: 0.8615 - val_loss: 0.3650 - val_accuracy: 0.8527\n",
      "Epoch 29/100\n",
      "536/536 [==============================] - 1s 3ms/step - loss: 0.3372 - accuracy: 0.8621 - val_loss: 0.3638 - val_accuracy: 0.8516\n",
      "Epoch 30/100\n",
      "536/536 [==============================] - 1s 3ms/step - loss: 0.3364 - accuracy: 0.8602 - val_loss: 0.3642 - val_accuracy: 0.8523\n",
      "Epoch 31/100\n",
      "536/536 [==============================] - 1s 2ms/step - loss: 0.3360 - accuracy: 0.8599 - val_loss: 0.3622 - val_accuracy: 0.8550\n",
      "Epoch 32/100\n",
      "536/536 [==============================] - 1s 3ms/step - loss: 0.3356 - accuracy: 0.8606 - val_loss: 0.3626 - val_accuracy: 0.8531\n",
      "Epoch 33/100\n",
      "536/536 [==============================] - 1s 2ms/step - loss: 0.3347 - accuracy: 0.8612 - val_loss: 0.3627 - val_accuracy: 0.8569\n",
      "Epoch 34/100\n",
      "536/536 [==============================] - 1s 3ms/step - loss: 0.3347 - accuracy: 0.8600 - val_loss: 0.3629 - val_accuracy: 0.8542\n",
      "Epoch 35/100\n",
      "536/536 [==============================] - 1s 3ms/step - loss: 0.3345 - accuracy: 0.8619 - val_loss: 0.3633 - val_accuracy: 0.8523\n",
      "Epoch 36/100\n",
      "536/536 [==============================] - 1s 3ms/step - loss: 0.3343 - accuracy: 0.8627 - val_loss: 0.3615 - val_accuracy: 0.8542\n",
      "Epoch 37/100\n",
      "536/536 [==============================] - 1s 3ms/step - loss: 0.3339 - accuracy: 0.8608 - val_loss: 0.3605 - val_accuracy: 0.8588\n",
      "Epoch 38/100\n",
      "536/536 [==============================] - 1s 3ms/step - loss: 0.3338 - accuracy: 0.8642 - val_loss: 0.3617 - val_accuracy: 0.8557\n",
      "Epoch 39/100\n",
      "536/536 [==============================] - 1s 3ms/step - loss: 0.3336 - accuracy: 0.8636 - val_loss: 0.3601 - val_accuracy: 0.8573\n",
      "Epoch 40/100\n",
      "536/536 [==============================] - 1s 3ms/step - loss: 0.3336 - accuracy: 0.8619 - val_loss: 0.3604 - val_accuracy: 0.8569\n",
      "Epoch 41/100\n",
      "536/536 [==============================] - 1s 3ms/step - loss: 0.3332 - accuracy: 0.8628 - val_loss: 0.3612 - val_accuracy: 0.8557\n",
      "Epoch 42/100\n",
      "536/536 [==============================] - 1s 3ms/step - loss: 0.3329 - accuracy: 0.8606 - val_loss: 0.3610 - val_accuracy: 0.8573\n",
      "Epoch 43/100\n",
      "536/536 [==============================] - 1s 3ms/step - loss: 0.3325 - accuracy: 0.8614 - val_loss: 0.3614 - val_accuracy: 0.8550\n",
      "Epoch 44/100\n",
      "536/536 [==============================] - 1s 3ms/step - loss: 0.3331 - accuracy: 0.8617 - val_loss: 0.3600 - val_accuracy: 0.8565\n",
      "Epoch 45/100\n",
      "536/536 [==============================] - 2s 3ms/step - loss: 0.3319 - accuracy: 0.8617 - val_loss: 0.3601 - val_accuracy: 0.8569\n",
      "Epoch 46/100\n",
      "536/536 [==============================] - 1s 3ms/step - loss: 0.3321 - accuracy: 0.8614 - val_loss: 0.3595 - val_accuracy: 0.8576\n",
      "Epoch 47/100\n",
      "536/536 [==============================] - 2s 4ms/step - loss: 0.3321 - accuracy: 0.8615 - val_loss: 0.3625 - val_accuracy: 0.8550\n",
      "Epoch 48/100\n",
      "536/536 [==============================] - 2s 4ms/step - loss: 0.3320 - accuracy: 0.8614 - val_loss: 0.3619 - val_accuracy: 0.8546\n",
      "Epoch 49/100\n",
      "536/536 [==============================] - 2s 3ms/step - loss: 0.3312 - accuracy: 0.8619 - val_loss: 0.3600 - val_accuracy: 0.8550\n",
      "Epoch 50/100\n",
      "536/536 [==============================] - 2s 3ms/step - loss: 0.3314 - accuracy: 0.8612 - val_loss: 0.3585 - val_accuracy: 0.8550\n",
      "Epoch 51/100\n",
      "536/536 [==============================] - 2s 4ms/step - loss: 0.3313 - accuracy: 0.8608 - val_loss: 0.3591 - val_accuracy: 0.8554\n",
      "Epoch 52/100\n",
      "536/536 [==============================] - 2s 3ms/step - loss: 0.3312 - accuracy: 0.8628 - val_loss: 0.3593 - val_accuracy: 0.8531\n",
      "Epoch 53/100\n",
      "536/536 [==============================] - 2s 4ms/step - loss: 0.3311 - accuracy: 0.8615 - val_loss: 0.3602 - val_accuracy: 0.8538\n",
      "Epoch 54/100\n",
      "536/536 [==============================] - 2s 3ms/step - loss: 0.3309 - accuracy: 0.8625 - val_loss: 0.3598 - val_accuracy: 0.8527\n",
      "Epoch 55/100\n",
      "536/536 [==============================] - 1s 3ms/step - loss: 0.3311 - accuracy: 0.8604 - val_loss: 0.3596 - val_accuracy: 0.8542\n",
      "Epoch 56/100\n",
      "536/536 [==============================] - 1s 3ms/step - loss: 0.3307 - accuracy: 0.8615 - val_loss: 0.3591 - val_accuracy: 0.8565\n",
      "Epoch 57/100\n",
      "536/536 [==============================] - 2s 3ms/step - loss: 0.3304 - accuracy: 0.8623 - val_loss: 0.3588 - val_accuracy: 0.8573\n",
      "Epoch 58/100\n",
      "536/536 [==============================] - 2s 3ms/step - loss: 0.3301 - accuracy: 0.8628 - val_loss: 0.3590 - val_accuracy: 0.8569\n",
      "Epoch 59/100\n",
      "536/536 [==============================] - 2s 3ms/step - loss: 0.3302 - accuracy: 0.8614 - val_loss: 0.3586 - val_accuracy: 0.8550\n",
      "Epoch 60/100\n",
      "536/536 [==============================] - 2s 3ms/step - loss: 0.3301 - accuracy: 0.8621 - val_loss: 0.3576 - val_accuracy: 0.8588\n",
      "Epoch 61/100\n",
      "536/536 [==============================] - 1s 3ms/step - loss: 0.3301 - accuracy: 0.8614 - val_loss: 0.3570 - val_accuracy: 0.8565\n",
      "Epoch 62/100\n",
      "536/536 [==============================] - 1s 3ms/step - loss: 0.3304 - accuracy: 0.8602 - val_loss: 0.3563 - val_accuracy: 0.8573\n",
      "Epoch 63/100\n",
      "536/536 [==============================] - 2s 3ms/step - loss: 0.3303 - accuracy: 0.8614 - val_loss: 0.3570 - val_accuracy: 0.8584\n",
      "Epoch 64/100\n",
      "536/536 [==============================] - 1s 3ms/step - loss: 0.3304 - accuracy: 0.8628 - val_loss: 0.3564 - val_accuracy: 0.8595\n",
      "Epoch 65/100\n",
      "536/536 [==============================] - 1s 3ms/step - loss: 0.3298 - accuracy: 0.8623 - val_loss: 0.3571 - val_accuracy: 0.8573\n",
      "Epoch 66/100\n",
      "536/536 [==============================] - 1s 3ms/step - loss: 0.3302 - accuracy: 0.8587 - val_loss: 0.3572 - val_accuracy: 0.8546\n",
      "Epoch 67/100\n",
      "536/536 [==============================] - 2s 4ms/step - loss: 0.3298 - accuracy: 0.8625 - val_loss: 0.3566 - val_accuracy: 0.8561\n",
      "Epoch 68/100\n",
      "536/536 [==============================] - 2s 4ms/step - loss: 0.3297 - accuracy: 0.8600 - val_loss: 0.3580 - val_accuracy: 0.8580\n",
      "Epoch 69/100\n",
      "536/536 [==============================] - 3s 5ms/step - loss: 0.3294 - accuracy: 0.8632 - val_loss: 0.3591 - val_accuracy: 0.8554\n",
      "Epoch 70/100\n",
      "536/536 [==============================] - 2s 3ms/step - loss: 0.3293 - accuracy: 0.8628 - val_loss: 0.3574 - val_accuracy: 0.8554\n",
      "Epoch 71/100\n",
      "536/536 [==============================] - 2s 3ms/step - loss: 0.3296 - accuracy: 0.8614 - val_loss: 0.3561 - val_accuracy: 0.8546\n",
      "Epoch 72/100\n",
      "536/536 [==============================] - 2s 3ms/step - loss: 0.3295 - accuracy: 0.8623 - val_loss: 0.3561 - val_accuracy: 0.8565\n",
      "Epoch 73/100\n",
      "536/536 [==============================] - 2s 4ms/step - loss: 0.3298 - accuracy: 0.8617 - val_loss: 0.3560 - val_accuracy: 0.8576\n",
      "Epoch 74/100\n",
      "536/536 [==============================] - 3s 5ms/step - loss: 0.3290 - accuracy: 0.8619 - val_loss: 0.3582 - val_accuracy: 0.8561\n",
      "Epoch 75/100\n",
      "536/536 [==============================] - 2s 4ms/step - loss: 0.3291 - accuracy: 0.8597 - val_loss: 0.3578 - val_accuracy: 0.8580\n",
      "Epoch 76/100\n",
      "536/536 [==============================] - 2s 3ms/step - loss: 0.3293 - accuracy: 0.8625 - val_loss: 0.3563 - val_accuracy: 0.8565\n",
      "Epoch 77/100\n",
      "536/536 [==============================] - 2s 3ms/step - loss: 0.3289 - accuracy: 0.8627 - val_loss: 0.3544 - val_accuracy: 0.8584\n",
      "Epoch 78/100\n",
      "536/536 [==============================] - 2s 3ms/step - loss: 0.3291 - accuracy: 0.8625 - val_loss: 0.3583 - val_accuracy: 0.8561\n",
      "Epoch 79/100\n",
      "536/536 [==============================] - 2s 3ms/step - loss: 0.3289 - accuracy: 0.8627 - val_loss: 0.3557 - val_accuracy: 0.8580\n",
      "Epoch 80/100\n",
      "536/536 [==============================] - 1s 3ms/step - loss: 0.3294 - accuracy: 0.8625 - val_loss: 0.3556 - val_accuracy: 0.8576\n",
      "Epoch 81/100\n",
      "536/536 [==============================] - 1s 3ms/step - loss: 0.3286 - accuracy: 0.8630 - val_loss: 0.3563 - val_accuracy: 0.8573\n",
      "Epoch 82/100\n",
      "536/536 [==============================] - 1s 3ms/step - loss: 0.3287 - accuracy: 0.8636 - val_loss: 0.3572 - val_accuracy: 0.8580\n",
      "Epoch 83/100\n",
      "536/536 [==============================] - 1s 3ms/step - loss: 0.3285 - accuracy: 0.8612 - val_loss: 0.3565 - val_accuracy: 0.8569\n",
      "Epoch 84/100\n",
      "536/536 [==============================] - 1s 3ms/step - loss: 0.3289 - accuracy: 0.8615 - val_loss: 0.3547 - val_accuracy: 0.8565\n",
      "Epoch 85/100\n",
      "536/536 [==============================] - 1s 3ms/step - loss: 0.3280 - accuracy: 0.8617 - val_loss: 0.3557 - val_accuracy: 0.8599\n",
      "Epoch 86/100\n",
      "536/536 [==============================] - 1s 3ms/step - loss: 0.3290 - accuracy: 0.8617 - val_loss: 0.3553 - val_accuracy: 0.8554\n",
      "Epoch 87/100\n",
      "536/536 [==============================] - 2s 3ms/step - loss: 0.3280 - accuracy: 0.8623 - val_loss: 0.3575 - val_accuracy: 0.8554\n",
      "Epoch 88/100\n",
      "536/536 [==============================] - 1s 3ms/step - loss: 0.3282 - accuracy: 0.8630 - val_loss: 0.3556 - val_accuracy: 0.8580\n",
      "Epoch 89/100\n",
      "536/536 [==============================] - 1s 3ms/step - loss: 0.3284 - accuracy: 0.8617 - val_loss: 0.3566 - val_accuracy: 0.8569\n",
      "Epoch 90/100\n",
      "536/536 [==============================] - 1s 3ms/step - loss: 0.3283 - accuracy: 0.8610 - val_loss: 0.3552 - val_accuracy: 0.8588\n",
      "Epoch 91/100\n",
      "536/536 [==============================] - 1s 3ms/step - loss: 0.3284 - accuracy: 0.8625 - val_loss: 0.3550 - val_accuracy: 0.8595\n",
      "Epoch 92/100\n",
      "536/536 [==============================] - 1s 3ms/step - loss: 0.3276 - accuracy: 0.8634 - val_loss: 0.3559 - val_accuracy: 0.8573\n",
      "Epoch 93/100\n",
      "536/536 [==============================] - 1s 3ms/step - loss: 0.3280 - accuracy: 0.8612 - val_loss: 0.3564 - val_accuracy: 0.8584\n",
      "Epoch 94/100\n",
      "536/536 [==============================] - 1s 3ms/step - loss: 0.3280 - accuracy: 0.8640 - val_loss: 0.3564 - val_accuracy: 0.8557\n",
      "Epoch 95/100\n",
      "536/536 [==============================] - 1s 3ms/step - loss: 0.3272 - accuracy: 0.8645 - val_loss: 0.3572 - val_accuracy: 0.8557\n",
      "Epoch 96/100\n",
      "536/536 [==============================] - 1s 3ms/step - loss: 0.3276 - accuracy: 0.8640 - val_loss: 0.3560 - val_accuracy: 0.8584\n",
      "Epoch 97/100\n",
      "536/536 [==============================] - 1s 3ms/step - loss: 0.3280 - accuracy: 0.8653 - val_loss: 0.3569 - val_accuracy: 0.8546\n",
      "Epoch 98/100\n",
      "536/536 [==============================] - 2s 3ms/step - loss: 0.3271 - accuracy: 0.8656 - val_loss: 0.3573 - val_accuracy: 0.8588\n",
      "Epoch 99/100\n",
      "536/536 [==============================] - 1s 3ms/step - loss: 0.3275 - accuracy: 0.8645 - val_loss: 0.3553 - val_accuracy: 0.8588\n",
      "Epoch 100/100\n",
      "536/536 [==============================] - 1s 3ms/step - loss: 0.3274 - accuracy: 0.8625 - val_loss: 0.3562 - val_accuracy: 0.8550\n"
     ]
    }
   ],
   "source": [
    "model_history=classifier.fit(X_train, y_train,validation_split=0.33, batch_size = 10, epochs = 100)"
   ]
  },
  {
   "attachments": {},
   "cell_type": "markdown",
   "metadata": {},
   "source": [
    "### Identify metrics for the classifier"
   ]
  },
  {
   "cell_type": "code",
   "execution_count": 116,
   "metadata": {},
   "outputs": [
    {
     "name": "stdout",
     "output_type": "stream",
     "text": [
      "dict_keys(['loss', 'accuracy', 'val_loss', 'val_accuracy'])\n"
     ]
    }
   ],
   "source": [
    "print(model_history.history.keys())"
   ]
  },
  {
   "attachments": {},
   "cell_type": "markdown",
   "metadata": {},
   "source": [
    "### Plot summarize history for accuracy"
   ]
  },
  {
   "cell_type": "code",
   "execution_count": 128,
   "metadata": {},
   "outputs": [
    {
     "data": {
      "image/png": "[encoded data removed]",
      "text/plain": [
       "<Figure size 640x480 with 1 Axes>"
      ]
     },
     "metadata": {},
     "output_type": "display_data"
    }
   ],
   "source": [
    "# summarize history for accuracy\n",
    "plt.plot(model_history.history['accuracy'])\n",
    "plt.plot(model_history.history['val_accuracy'])\n",
    "plt.title('model accuracy')\n",
    "plt.ylabel('accuracy')\n",
    "plt.xlabel('epoch')\n",
    "plt.legend(['train', 'test'], loc='upper left')\n",
    "plt.show()"
   ]
  },
  {
   "attachments": {},
   "cell_type": "markdown",
   "metadata": {},
   "source": [
    "### Plot summarize history for loss"
   ]
  },
  {
   "cell_type": "code",
   "execution_count": 122,
   "metadata": {},
   "outputs": [
    {
     "data": {
      "image/png": "[encoded data removed]",
      "text/plain": [
       "<Figure size 640x480 with 1 Axes>"
      ]
     },
     "metadata": {},
     "output_type": "display_data"
    }
   ],
   "source": [
    "plt.plot(model_history.history['loss'])\n",
    "plt.plot(model_history.history['val_loss'])\n",
    "plt.title('model loss')\n",
    "plt.ylabel('loss')\n",
    "plt.xlabel('epoch')\n",
    "plt.legend(['train', 'test'], loc='upper left')\n",
    "plt.show()"
   ]
  },
  {
   "attachments": {},
   "cell_type": "markdown",
   "metadata": {},
   "source": [
    "### Making the predictions and evaluating the model"
   ]
  },
  {
   "cell_type": "code",
   "execution_count": 123,
   "metadata": {},
   "outputs": [
    {
     "name": "stdout",
     "output_type": "stream",
     "text": [
      "63/63 [==============================] - 3s 1ms/step\n"
     ]
    }
   ],
   "source": [
    "y_pred = classifier.predict(X_test)\n",
    "y_pred = (y_pred > 0.5)"
   ]
  },
  {
   "cell_type": "code",
   "execution_count": 126,
   "metadata": {},
   "outputs": [
    {
     "name": "stdout",
     "output_type": "stream",
     "text": [
      "[[1505   90]\n",
      " [ 192  213]]\n"
     ]
    }
   ],
   "source": [
    "from sklearn.metrics import confusion_matrix\n",
    "cm = confusion_matrix(y_test, y_pred)\n",
    "print(cm)"
   ]
  },
  {
   "cell_type": "code",
   "execution_count": 127,
   "metadata": {},
   "outputs": [
    {
     "data": {
      "text/plain": [
       "0.859"
      ]
     },
     "execution_count": 127,
     "metadata": {},
     "output_type": "execute_result"
    }
   ],
   "source": [
    "from sklearn.metrics import accuracy_score\n",
    "score = accuracy_score(y_pred,y_test)\n",
    "score"
   ]
  }
 ],
 "metadata": {
  "kernelspec": {
   "display_name": "Python 3",
   "language": "python",
   "name": "python3"
  },
  "language_info": {
   "codemirror_mode": {
    "name": "ipython",
    "version": 3
   },
   "file_extension": ".py",
   "mimetype": "text/x-python",
   "name": "python",
   "nbconvert_exporter": "python",
   "pygments_lexer": "ipython3",
   "version": "3.10.8"
  },
  "orig_nbformat": 4,
  "vscode": {
   "interpreter": {
    "hash": "3b095c78d4d0a65c3f456c494693e1a5b5771f8f860a0a9af68316c2e765deba"
   }
  }
 },
 "nbformat": 4,
 "nbformat_minor": 2
}
